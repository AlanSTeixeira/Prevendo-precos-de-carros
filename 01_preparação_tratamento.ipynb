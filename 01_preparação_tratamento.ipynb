{
 "cells": [
  {
   "cell_type": "markdown",
   "id": "f088c4fe",
   "metadata": {},
   "source": [
    "# PREPARAÇÃO/TRATAMENTO NOS DADOS"
   ]
  },
  {
   "cell_type": "markdown",
   "id": "5c5762a4",
   "metadata": {},
   "source": [
    "### Importando as Bibliotecas utéis"
   ]
  },
  {
   "cell_type": "code",
   "execution_count": 26,
   "id": "322dd3a1",
   "metadata": {},
   "outputs": [],
   "source": [
    "import warnings\n",
    "warnings.filterwarnings(\"ignore\")\n",
    "\n",
    "import pandas as pd\n",
    "from scipy.stats import mode"
   ]
  },
  {
   "cell_type": "markdown",
   "id": "332f14bc",
   "metadata": {},
   "source": [
    "Vamos iniar o nosso trabalho pelo dataframe cars_test"
   ]
  },
  {
   "cell_type": "markdown",
   "id": "de8f70a2",
   "metadata": {},
   "source": [
    "### Importando o arquivo CSV"
   ]
  },
  {
   "cell_type": "code",
   "execution_count": 2,
   "id": "af87657b",
   "metadata": {},
   "outputs": [],
   "source": [
    "df_cars_test = pd.read_csv(\"cars_test.csv\", encoding='utf-16', sep=\"\\t\")"
   ]
  },
  {
   "cell_type": "markdown",
   "id": "69539d52",
   "metadata": {},
   "source": [
    "Ao abrir o arquivo, percebi que as colunas estavam todas juntas e não havia uma separação clara entre elas. Isso ocorreu porque o arquivo utiliza o caractere de tabulação (\\t) como separador de colunas, em vez do padrão utilizado pelo pandas, que é a vírgula (,). Para garantir que o pandas interpretasse corretamente as colunas, tive que especificar o separador usando o parâmetro \"sep\" e definir seu valor como \"\\t\".\n",
    "\n",
    "Além disso, observei que o arquivo estava codificado em UTF-16, um formato de codificação de caracteres que difere do padrão UTF-8 amplamente utilizado. Portanto, também foi necessário especificar a codificação correta usando o parâmetro \"encoding\" e definir seu valor como 'utf-16'.\n",
    "\n",
    "Com essas alterações, consegui abrir o arquivo corretamente no pandas, garantindo que as colunas estivessem separadas e prontas para análise. Isso é essencial para que possamos extrair informações precisas e relevantes do conjunto de dados."
   ]
  },
  {
   "cell_type": "code",
   "execution_count": 3,
   "id": "482ec280",
   "metadata": {},
   "outputs": [
    {
     "data": {
      "text/plain": [
       "(9862, 28)"
      ]
     },
     "execution_count": 3,
     "metadata": {},
     "output_type": "execute_result"
    }
   ],
   "source": [
    "df_cars_test.shape"
   ]
  },
  {
   "cell_type": "code",
   "execution_count": 4,
   "id": "949dbf30",
   "metadata": {},
   "outputs": [
    {
     "name": "stdout",
     "output_type": "stream",
     "text": [
      "<class 'pandas.core.frame.DataFrame'>\n",
      "RangeIndex: 9862 entries, 0 to 9861\n",
      "Data columns (total 28 columns):\n",
      " #   Column                   Non-Null Count  Dtype  \n",
      "---  ------                   --------------  -----  \n",
      " 0   id                       9862 non-null   object \n",
      " 1   num_fotos                9802 non-null   float64\n",
      " 2   marca                    9862 non-null   object \n",
      " 3   modelo                   9862 non-null   object \n",
      " 4   versao                   9862 non-null   object \n",
      " 5   ano_de_fabricacao        9862 non-null   int64  \n",
      " 6   ano_modelo               9862 non-null   float64\n",
      " 7   hodometro                9862 non-null   float64\n",
      " 8   cambio                   9862 non-null   object \n",
      " 9   num_portas               9862 non-null   int64  \n",
      " 10  tipo                     9862 non-null   object \n",
      " 11  blindado                 9862 non-null   object \n",
      " 12  cor                      9862 non-null   object \n",
      " 13  tipo_vendedor            9862 non-null   object \n",
      " 14  cidade_vendedor          9862 non-null   object \n",
      " 15  estado_vendedor          9862 non-null   object \n",
      " 16  anunciante               9862 non-null   object \n",
      " 17  entrega_delivery         9862 non-null   bool   \n",
      " 18  troca                    9862 non-null   bool   \n",
      " 19  elegivel_revisao         9862 non-null   bool   \n",
      " 20  dono_aceita_troca        7308 non-null   object \n",
      " 21  veiculo_único_dono       3475 non-null   object \n",
      " 22  revisoes_concessionaria  3067 non-null   object \n",
      " 23  ipva_pago                6564 non-null   object \n",
      " 24  veiculo_licenciado       5344 non-null   object \n",
      " 25  garantia_de_fábrica      1423 non-null   object \n",
      " 26  revisoes_dentro_agenda   1993 non-null   object \n",
      " 27  veiculo_alienado         0 non-null      float64\n",
      "dtypes: bool(3), float64(4), int64(2), object(19)\n",
      "memory usage: 1.9+ MB\n"
     ]
    }
   ],
   "source": [
    "## INFORMAÇÕES RESUMIDA DA TABELA DE DADOS\n",
    "df_cars_test.info()"
   ]
  },
  {
   "cell_type": "code",
   "execution_count": 5,
   "id": "b79e48ef",
   "metadata": {},
   "outputs": [
    {
     "data": {
      "text/html": [
       "<div>\n",
       "<style scoped>\n",
       "    .dataframe tbody tr th:only-of-type {\n",
       "        vertical-align: middle;\n",
       "    }\n",
       "\n",
       "    .dataframe tbody tr th {\n",
       "        vertical-align: top;\n",
       "    }\n",
       "\n",
       "    .dataframe thead th {\n",
       "        text-align: right;\n",
       "    }\n",
       "</style>\n",
       "<table border=\"1\" class=\"dataframe\">\n",
       "  <thead>\n",
       "    <tr style=\"text-align: right;\">\n",
       "      <th></th>\n",
       "      <th>id</th>\n",
       "      <th>num_fotos</th>\n",
       "      <th>marca</th>\n",
       "      <th>modelo</th>\n",
       "      <th>versao</th>\n",
       "      <th>ano_de_fabricacao</th>\n",
       "      <th>ano_modelo</th>\n",
       "      <th>hodometro</th>\n",
       "      <th>cambio</th>\n",
       "      <th>num_portas</th>\n",
       "      <th>...</th>\n",
       "      <th>troca</th>\n",
       "      <th>elegivel_revisao</th>\n",
       "      <th>dono_aceita_troca</th>\n",
       "      <th>veiculo_único_dono</th>\n",
       "      <th>revisoes_concessionaria</th>\n",
       "      <th>ipva_pago</th>\n",
       "      <th>veiculo_licenciado</th>\n",
       "      <th>garantia_de_fábrica</th>\n",
       "      <th>revisoes_dentro_agenda</th>\n",
       "      <th>veiculo_alienado</th>\n",
       "    </tr>\n",
       "  </thead>\n",
       "  <tbody>\n",
       "    <tr>\n",
       "      <th>0</th>\n",
       "      <td>13518783164498355150900635905895481162</td>\n",
       "      <td>8.0</td>\n",
       "      <td>NISSAN</td>\n",
       "      <td>VERSA</td>\n",
       "      <td>1.6 16V FLEXSTART V-DRIVE MANUAL</td>\n",
       "      <td>2021</td>\n",
       "      <td>2021.0</td>\n",
       "      <td>20258.0</td>\n",
       "      <td>Manual</td>\n",
       "      <td>4</td>\n",
       "      <td>...</td>\n",
       "      <td>False</td>\n",
       "      <td>False</td>\n",
       "      <td>Aceita troca</td>\n",
       "      <td>NaN</td>\n",
       "      <td>NaN</td>\n",
       "      <td>IPVA pago</td>\n",
       "      <td>Licenciado</td>\n",
       "      <td>Garantia de fábrica</td>\n",
       "      <td>NaN</td>\n",
       "      <td>NaN</td>\n",
       "    </tr>\n",
       "    <tr>\n",
       "      <th>1</th>\n",
       "      <td>299896161723793383246777788797566040330</td>\n",
       "      <td>18.0</td>\n",
       "      <td>FIAT</td>\n",
       "      <td>STRADA</td>\n",
       "      <td>1.4 MPI WORKING CS 8V FLEX 2P MANUAL</td>\n",
       "      <td>2021</td>\n",
       "      <td>2021.0</td>\n",
       "      <td>53045.0</td>\n",
       "      <td>Manual</td>\n",
       "      <td>2</td>\n",
       "      <td>...</td>\n",
       "      <td>False</td>\n",
       "      <td>False</td>\n",
       "      <td>Aceita troca</td>\n",
       "      <td>Único dono</td>\n",
       "      <td>NaN</td>\n",
       "      <td>IPVA pago</td>\n",
       "      <td>Licenciado</td>\n",
       "      <td>NaN</td>\n",
       "      <td>NaN</td>\n",
       "      <td>NaN</td>\n",
       "    </tr>\n",
       "    <tr>\n",
       "      <th>2</th>\n",
       "      <td>316180649972302128246133616457018378621</td>\n",
       "      <td>8.0</td>\n",
       "      <td>AUDI</td>\n",
       "      <td>Q5</td>\n",
       "      <td>2.0 TFSI GASOLINA BLACK S TRONIC</td>\n",
       "      <td>2018</td>\n",
       "      <td>2019.0</td>\n",
       "      <td>32486.0</td>\n",
       "      <td>Automática</td>\n",
       "      <td>4</td>\n",
       "      <td>...</td>\n",
       "      <td>False</td>\n",
       "      <td>False</td>\n",
       "      <td>Aceita troca</td>\n",
       "      <td>NaN</td>\n",
       "      <td>NaN</td>\n",
       "      <td>IPVA pago</td>\n",
       "      <td>NaN</td>\n",
       "      <td>NaN</td>\n",
       "      <td>NaN</td>\n",
       "      <td>NaN</td>\n",
       "    </tr>\n",
       "    <tr>\n",
       "      <th>3</th>\n",
       "      <td>222527157104148385909188217274642813298</td>\n",
       "      <td>16.0</td>\n",
       "      <td>CHEVROLET</td>\n",
       "      <td>CRUZE</td>\n",
       "      <td>1.4 TURBO LT 16V FLEX 4P AUTOMÁTICO</td>\n",
       "      <td>2019</td>\n",
       "      <td>2020.0</td>\n",
       "      <td>24937.0</td>\n",
       "      <td>Automática</td>\n",
       "      <td>4</td>\n",
       "      <td>...</td>\n",
       "      <td>False</td>\n",
       "      <td>False</td>\n",
       "      <td>Aceita troca</td>\n",
       "      <td>Único dono</td>\n",
       "      <td>NaN</td>\n",
       "      <td>IPVA pago</td>\n",
       "      <td>Licenciado</td>\n",
       "      <td>NaN</td>\n",
       "      <td>NaN</td>\n",
       "      <td>NaN</td>\n",
       "    </tr>\n",
       "    <tr>\n",
       "      <th>4</th>\n",
       "      <td>160460343059850745858546502614838368036</td>\n",
       "      <td>8.0</td>\n",
       "      <td>FORD</td>\n",
       "      <td>ECOSPORT</td>\n",
       "      <td>1.5 TI-VCT FLEX SE AUTOMÁTICO</td>\n",
       "      <td>2019</td>\n",
       "      <td>2019.0</td>\n",
       "      <td>62074.0</td>\n",
       "      <td>Automática</td>\n",
       "      <td>4</td>\n",
       "      <td>...</td>\n",
       "      <td>False</td>\n",
       "      <td>False</td>\n",
       "      <td>Aceita troca</td>\n",
       "      <td>NaN</td>\n",
       "      <td>NaN</td>\n",
       "      <td>IPVA pago</td>\n",
       "      <td>Licenciado</td>\n",
       "      <td>NaN</td>\n",
       "      <td>NaN</td>\n",
       "      <td>NaN</td>\n",
       "    </tr>\n",
       "  </tbody>\n",
       "</table>\n",
       "<p>5 rows × 28 columns</p>\n",
       "</div>"
      ],
      "text/plain": [
       "                                        id  num_fotos      marca    modelo  \\\n",
       "0   13518783164498355150900635905895481162        8.0     NISSAN     VERSA   \n",
       "1  299896161723793383246777788797566040330       18.0       FIAT    STRADA   \n",
       "2  316180649972302128246133616457018378621        8.0       AUDI        Q5   \n",
       "3  222527157104148385909188217274642813298       16.0  CHEVROLET     CRUZE   \n",
       "4  160460343059850745858546502614838368036        8.0       FORD  ECOSPORT   \n",
       "\n",
       "                                 versao  ano_de_fabricacao  ano_modelo  \\\n",
       "0      1.6 16V FLEXSTART V-DRIVE MANUAL               2021      2021.0   \n",
       "1  1.4 MPI WORKING CS 8V FLEX 2P MANUAL               2021      2021.0   \n",
       "2      2.0 TFSI GASOLINA BLACK S TRONIC               2018      2019.0   \n",
       "3   1.4 TURBO LT 16V FLEX 4P AUTOMÁTICO               2019      2020.0   \n",
       "4         1.5 TI-VCT FLEX SE AUTOMÁTICO               2019      2019.0   \n",
       "\n",
       "   hodometro      cambio  num_portas  ...  troca elegivel_revisao  \\\n",
       "0    20258.0      Manual           4  ...  False            False   \n",
       "1    53045.0      Manual           2  ...  False            False   \n",
       "2    32486.0  Automática           4  ...  False            False   \n",
       "3    24937.0  Automática           4  ...  False            False   \n",
       "4    62074.0  Automática           4  ...  False            False   \n",
       "\n",
       "  dono_aceita_troca veiculo_único_dono revisoes_concessionaria  ipva_pago  \\\n",
       "0      Aceita troca                NaN                     NaN  IPVA pago   \n",
       "1      Aceita troca         Único dono                     NaN  IPVA pago   \n",
       "2      Aceita troca                NaN                     NaN  IPVA pago   \n",
       "3      Aceita troca         Único dono                     NaN  IPVA pago   \n",
       "4      Aceita troca                NaN                     NaN  IPVA pago   \n",
       "\n",
       "  veiculo_licenciado  garantia_de_fábrica  revisoes_dentro_agenda  \\\n",
       "0         Licenciado  Garantia de fábrica                     NaN   \n",
       "1         Licenciado                  NaN                     NaN   \n",
       "2                NaN                  NaN                     NaN   \n",
       "3         Licenciado                  NaN                     NaN   \n",
       "4         Licenciado                  NaN                     NaN   \n",
       "\n",
       "   veiculo_alienado  \n",
       "0               NaN  \n",
       "1               NaN  \n",
       "2               NaN  \n",
       "3               NaN  \n",
       "4               NaN  \n",
       "\n",
       "[5 rows x 28 columns]"
      ]
     },
     "execution_count": 5,
     "metadata": {},
     "output_type": "execute_result"
    }
   ],
   "source": [
    "## VISUALIZANDO APENAS AS PRIMEIRAS LINHAS \n",
    "df_cars_test.head()"
   ]
  },
  {
   "cell_type": "code",
   "execution_count": 6,
   "id": "bc98e712",
   "metadata": {},
   "outputs": [
    {
     "name": "stdout",
     "output_type": "stream",
     "text": [
      "Não existem elementos duplicados na coluna 'id'.\n"
     ]
    }
   ],
   "source": [
    "##VERIFICANDO SE HÁ DADOS DUPLICADOS\n",
    "duplicados = df_cars_test['id'].duplicated()\n",
    "if duplicados.any():\n",
    "    print(\"Existem elementos duplicados na coluna 'id'.\")\n",
    "else:\n",
    "    print(\"Não existem elementos duplicados na coluna 'id'.\")"
   ]
  },
  {
   "cell_type": "code",
   "execution_count": 7,
   "id": "24698203",
   "metadata": {},
   "outputs": [
    {
     "name": "stdout",
     "output_type": "stream",
     "text": [
      "==== ÍNDICE DE NULOS NOS ATRIBUTOS ====\n",
      "id                           0.000000\n",
      "num_fotos                    0.608396\n",
      "marca                        0.000000\n",
      "modelo                       0.000000\n",
      "versao                       0.000000\n",
      "ano_de_fabricacao            0.000000\n",
      "ano_modelo                   0.000000\n",
      "hodometro                    0.000000\n",
      "cambio                       0.000000\n",
      "num_portas                   0.000000\n",
      "tipo                         0.000000\n",
      "blindado                     0.000000\n",
      "cor                          0.000000\n",
      "tipo_vendedor                0.000000\n",
      "cidade_vendedor              0.000000\n",
      "estado_vendedor              0.000000\n",
      "anunciante                   0.000000\n",
      "entrega_delivery             0.000000\n",
      "troca                        0.000000\n",
      "elegivel_revisao             0.000000\n",
      "dono_aceita_troca           25.897384\n",
      "veiculo_único_dono          64.763740\n",
      "revisoes_concessionaria     68.900831\n",
      "ipva_pago                   33.441493\n",
      "veiculo_licenciado          45.812208\n",
      "garantia_de_fábrica         85.570878\n",
      "revisoes_dentro_agenda      79.791117\n",
      "veiculo_alienado           100.000000\n",
      "dtype: float64\n"
     ]
    }
   ],
   "source": [
    "print(\"==== ÍNDICE DE NULOS NOS ATRIBUTOS ====\")\n",
    "dados = df_cars_test.copy()\n",
    "indice_nulos = (dados.isnull().sum() / len(dados) * 100)\n",
    "print(indice_nulos)"
   ]
  },
  {
   "cell_type": "markdown",
   "id": "2292a853",
   "metadata": {},
   "source": [
    "### Deletando colunas"
   ]
  },
  {
   "cell_type": "markdown",
   "id": "26936ef4",
   "metadata": {},
   "source": [
    "A exclusão das colunas com mais de 50% de valores nulos é uma abordagem razoável quando temos uma quantidade considerável de dados ausentes. Essas colunas possuem uma falta significativa de informações, o que pode comprometer a qualidade e confiabilidade da análise. Ao excluir essas colunas, garantimos que estamos trabalhando com dados mais completos e relevantes, facilitando a interpretação e a tomada de decisões. Além disso, evitamos introduzir vieses ou distorções nos resultados devido à falta de informações substanciais em determinadas colunas."
   ]
  },
  {
   "cell_type": "code",
   "execution_count": 8,
   "id": "f6484048",
   "metadata": {},
   "outputs": [],
   "source": [
    "## DELETANDO COLUNAS COM MAIS DE 50% DE VALORES NULOS\n",
    "\n",
    "limite = len(df_cars_test) * 0.5  # Definindo o limite de 50% dos valores nulos\n",
    "df_cars_test = df_cars_test.dropna(thresh=limite, axis=1)"
   ]
  },
  {
   "cell_type": "code",
   "execution_count": 9,
   "id": "f4863810",
   "metadata": {},
   "outputs": [
    {
     "name": "stdout",
     "output_type": "stream",
     "text": [
      "==== ÍNDICE DE NULOS NOS ATRIBUTOS ====\n",
      "id                     0.000000\n",
      "num_fotos              0.608396\n",
      "marca                  0.000000\n",
      "modelo                 0.000000\n",
      "versao                 0.000000\n",
      "ano_de_fabricacao      0.000000\n",
      "ano_modelo             0.000000\n",
      "hodometro              0.000000\n",
      "cambio                 0.000000\n",
      "num_portas             0.000000\n",
      "tipo                   0.000000\n",
      "blindado               0.000000\n",
      "cor                    0.000000\n",
      "tipo_vendedor          0.000000\n",
      "cidade_vendedor        0.000000\n",
      "estado_vendedor        0.000000\n",
      "anunciante             0.000000\n",
      "entrega_delivery       0.000000\n",
      "troca                  0.000000\n",
      "elegivel_revisao       0.000000\n",
      "dono_aceita_troca     25.897384\n",
      "ipva_pago             33.441493\n",
      "veiculo_licenciado    45.812208\n",
      "dtype: float64\n"
     ]
    }
   ],
   "source": [
    "print(\"==== ÍNDICE DE NULOS NOS ATRIBUTOS ====\")\n",
    "dados = df_cars_test.copy()\n",
    "indice_nulos = (dados.isnull().sum() / len(dados) * 100)\n",
    "print(indice_nulos)"
   ]
  },
  {
   "cell_type": "markdown",
   "id": "d9a06d2e",
   "metadata": {},
   "source": [
    "### Substituindo valores nulos"
   ]
  },
  {
   "cell_type": "markdown",
   "id": "f80604e8",
   "metadata": {},
   "source": [
    "A substituição dos valores nulos pela mediana (dados numéricos) ou pela moda (dados categóricos) é uma estratégia comum para preencher lacunas nos dados ausentes. Utilizar a mediana é uma abordagem robusta, especialmente para dados numéricos, pois é menos sensível a valores discrepantes (outliers) em comparação com a média. \n",
    "\n",
    "Ao substituir os valores nulos pela mediana nas colunas com menos de 50% de valores ausentes, estamos mantendo o máximo de informação possível, evitando perdas significativas de dados e preservando a distribuição original da variável. Isso nos permite realizar análises mais completas e confiáveis.\n",
    "\n",
    "Ao substituir os valores nulos pela moda nessas colunas, estamos preenchendo as lacunas com os valores mais frequentes, ou seja, aqueles que aparecem com maior frequência nos dados existentes. Isso ajuda a preservar a distribuição original das variáveis e evita distorções significativas na análise estatística posterior."
   ]
  },
  {
   "cell_type": "code",
   "execution_count": 10,
   "id": "df3c060b",
   "metadata": {},
   "outputs": [],
   "source": [
    "mediana = df_cars_test['num_fotos'].median()  # Calculando a mediana da coluna \"num_fotos\"\n",
    "df_cars_test['num_fotos'].fillna(mediana, inplace=True)  # Substituindo os valores nulos pela mediana"
   ]
  },
  {
   "cell_type": "code",
   "execution_count": 27,
   "id": "0e3bfad2",
   "metadata": {},
   "outputs": [],
   "source": [
    "moda_dono_aceita_troca = mode(df_cars_test['dono_aceita_troca'])[0][0]  # Calculando a moda da coluna \"dono_aceita_troca\"\n",
    "moda_ipva_pago = mode(df_cars_test['ipva_pago'])[0][0]  # Calculando a moda da coluna \"ipva_pago\"\n",
    "moda_veiculo_licenciado = mode(df_cars_test['veiculo_licenciado'])[0][0]  # Calculando a moda da coluna \"veiculo_licenciado\"\n",
    "\n",
    "df_cars_test['dono_aceita_troca'].fillna(moda_dono_aceita_troca, inplace=True)  # Substituindo os valores nulos pela moda em \"dono_aceita_troca\"\n",
    "df_cars_test['ipva_pago'].fillna(moda_ipva_pago, inplace=True)  # Substituindo os valores nulos pela moda em \"ipva_pago\"\n",
    "df_cars_test['veiculo_licenciado'].fillna(moda_veiculo_licenciado, inplace=True)  # Substituindo os valores nulos pela moda em \"veiculo_licenciado\""
   ]
  },
  {
   "cell_type": "code",
   "execution_count": 12,
   "id": "772ca94e",
   "metadata": {},
   "outputs": [
    {
     "name": "stdout",
     "output_type": "stream",
     "text": [
      "==== ÍNDICE DE NULOS NOS ATRIBUTOS ====\n",
      "id                    0.0\n",
      "num_fotos             0.0\n",
      "marca                 0.0\n",
      "modelo                0.0\n",
      "versao                0.0\n",
      "ano_de_fabricacao     0.0\n",
      "ano_modelo            0.0\n",
      "hodometro             0.0\n",
      "cambio                0.0\n",
      "num_portas            0.0\n",
      "tipo                  0.0\n",
      "blindado              0.0\n",
      "cor                   0.0\n",
      "tipo_vendedor         0.0\n",
      "cidade_vendedor       0.0\n",
      "estado_vendedor       0.0\n",
      "anunciante            0.0\n",
      "entrega_delivery      0.0\n",
      "troca                 0.0\n",
      "elegivel_revisao      0.0\n",
      "dono_aceita_troca     0.0\n",
      "ipva_pago             0.0\n",
      "veiculo_licenciado    0.0\n",
      "dtype: float64\n"
     ]
    }
   ],
   "source": [
    "print(\"==== ÍNDICE DE NULOS NOS ATRIBUTOS ====\")\n",
    "dados = df_cars_test.copy()\n",
    "indice_nulos = (dados.isnull().sum() / len(dados) * 100)\n",
    "print(indice_nulos)"
   ]
  },
  {
   "cell_type": "markdown",
   "id": "76c3c536",
   "metadata": {},
   "source": [
    "### Salvando os dados tratados em um novo dataframe"
   ]
  },
  {
   "cell_type": "code",
   "execution_count": 13,
   "id": "0650cda8",
   "metadata": {},
   "outputs": [],
   "source": [
    "df_cars_test_limpos = df_cars_test.copy()  # Copia o DataFrame original para preservar os dados originais\n",
    "\n",
    "# Salvar o DataFrame limpo em um novo arquivo CSV\n",
    "df_cars_test_limpos.to_csv('df_cars_test_limpos.csv', index=False)"
   ]
  },
  {
   "cell_type": "markdown",
   "id": "519f96e1",
   "metadata": {},
   "source": [
    "Vamos agora aplicar o mesmo tratamento ao dataframe cars_train"
   ]
  },
  {
   "cell_type": "markdown",
   "id": "6cd3f1f3",
   "metadata": {},
   "source": [
    "### Importando o arquivo CSV"
   ]
  },
  {
   "cell_type": "code",
   "execution_count": 14,
   "id": "7173c475",
   "metadata": {},
   "outputs": [],
   "source": [
    "df_cars_train = pd.read_csv(\"cars_train.csv\", encoding='utf-16', sep=\"\\t\")"
   ]
  },
  {
   "cell_type": "code",
   "execution_count": 15,
   "id": "096c2415",
   "metadata": {},
   "outputs": [
    {
     "data": {
      "text/plain": [
       "(29584, 29)"
      ]
     },
     "execution_count": 15,
     "metadata": {},
     "output_type": "execute_result"
    }
   ],
   "source": [
    "df_cars_train.shape"
   ]
  },
  {
   "cell_type": "code",
   "execution_count": 16,
   "id": "87a43bec",
   "metadata": {},
   "outputs": [
    {
     "name": "stdout",
     "output_type": "stream",
     "text": [
      "<class 'pandas.core.frame.DataFrame'>\n",
      "RangeIndex: 29584 entries, 0 to 29583\n",
      "Data columns (total 29 columns):\n",
      " #   Column                   Non-Null Count  Dtype  \n",
      "---  ------                   --------------  -----  \n",
      " 0   id                       29584 non-null  object \n",
      " 1   num_fotos                29407 non-null  float64\n",
      " 2   marca                    29584 non-null  object \n",
      " 3   modelo                   29584 non-null  object \n",
      " 4   versao                   29584 non-null  object \n",
      " 5   ano_de_fabricacao        29584 non-null  int64  \n",
      " 6   ano_modelo               29584 non-null  float64\n",
      " 7   hodometro                29584 non-null  float64\n",
      " 8   cambio                   29584 non-null  object \n",
      " 9   num_portas               29584 non-null  int64  \n",
      " 10  tipo                     29584 non-null  object \n",
      " 11  blindado                 29584 non-null  object \n",
      " 12  cor                      29584 non-null  object \n",
      " 13  tipo_vendedor            29584 non-null  object \n",
      " 14  cidade_vendedor          29584 non-null  object \n",
      " 15  estado_vendedor          29584 non-null  object \n",
      " 16  anunciante               29584 non-null  object \n",
      " 17  entrega_delivery         29584 non-null  bool   \n",
      " 18  troca                    29584 non-null  bool   \n",
      " 19  elegivel_revisao         29584 non-null  bool   \n",
      " 20  dono_aceita_troca        21922 non-null  object \n",
      " 21  veiculo_único_dono       10423 non-null  object \n",
      " 22  revisoes_concessionaria  9172 non-null   object \n",
      " 23  ipva_pago                19659 non-null  object \n",
      " 24  veiculo_licenciado       15906 non-null  object \n",
      " 25  garantia_de_fábrica      4365 non-null   object \n",
      " 26  revisoes_dentro_agenda   5910 non-null   object \n",
      " 27  veiculo_alienado         0 non-null      float64\n",
      " 28  preco                    29584 non-null  float64\n",
      "dtypes: bool(3), float64(5), int64(2), object(19)\n",
      "memory usage: 6.0+ MB\n"
     ]
    }
   ],
   "source": [
    "## INFORMAÇÕES RESUMIDA DA TABELA DE DADOS\n",
    "df_cars_train.info()"
   ]
  },
  {
   "cell_type": "code",
   "execution_count": 17,
   "id": "dec73555",
   "metadata": {},
   "outputs": [
    {
     "data": {
      "text/html": [
       "<div>\n",
       "<style scoped>\n",
       "    .dataframe tbody tr th:only-of-type {\n",
       "        vertical-align: middle;\n",
       "    }\n",
       "\n",
       "    .dataframe tbody tr th {\n",
       "        vertical-align: top;\n",
       "    }\n",
       "\n",
       "    .dataframe thead th {\n",
       "        text-align: right;\n",
       "    }\n",
       "</style>\n",
       "<table border=\"1\" class=\"dataframe\">\n",
       "  <thead>\n",
       "    <tr style=\"text-align: right;\">\n",
       "      <th></th>\n",
       "      <th>id</th>\n",
       "      <th>num_fotos</th>\n",
       "      <th>marca</th>\n",
       "      <th>modelo</th>\n",
       "      <th>versao</th>\n",
       "      <th>ano_de_fabricacao</th>\n",
       "      <th>ano_modelo</th>\n",
       "      <th>hodometro</th>\n",
       "      <th>cambio</th>\n",
       "      <th>num_portas</th>\n",
       "      <th>...</th>\n",
       "      <th>elegivel_revisao</th>\n",
       "      <th>dono_aceita_troca</th>\n",
       "      <th>veiculo_único_dono</th>\n",
       "      <th>revisoes_concessionaria</th>\n",
       "      <th>ipva_pago</th>\n",
       "      <th>veiculo_licenciado</th>\n",
       "      <th>garantia_de_fábrica</th>\n",
       "      <th>revisoes_dentro_agenda</th>\n",
       "      <th>veiculo_alienado</th>\n",
       "      <th>preco</th>\n",
       "    </tr>\n",
       "  </thead>\n",
       "  <tbody>\n",
       "    <tr>\n",
       "      <th>0</th>\n",
       "      <td>300716223898539419613863097469899222392</td>\n",
       "      <td>8.0</td>\n",
       "      <td>NISSAN</td>\n",
       "      <td>KICKS</td>\n",
       "      <td>1.6 16V FLEXSTART SL 4P XTRONIC</td>\n",
       "      <td>2017</td>\n",
       "      <td>2017.0</td>\n",
       "      <td>67772.0</td>\n",
       "      <td>CVT</td>\n",
       "      <td>4</td>\n",
       "      <td>...</td>\n",
       "      <td>False</td>\n",
       "      <td>NaN</td>\n",
       "      <td>NaN</td>\n",
       "      <td>Todas as revisões feitas pela concessionária</td>\n",
       "      <td>IPVA pago</td>\n",
       "      <td>Licenciado</td>\n",
       "      <td>NaN</td>\n",
       "      <td>NaN</td>\n",
       "      <td>NaN</td>\n",
       "      <td>74732.590084</td>\n",
       "    </tr>\n",
       "    <tr>\n",
       "      <th>1</th>\n",
       "      <td>279639842134129588306469566150288644214</td>\n",
       "      <td>8.0</td>\n",
       "      <td>JEEP</td>\n",
       "      <td>COMPASS</td>\n",
       "      <td>2.0 16V FLEX LIMITED AUTOMÁTICO</td>\n",
       "      <td>2017</td>\n",
       "      <td>2017.0</td>\n",
       "      <td>62979.0</td>\n",
       "      <td>Automática</td>\n",
       "      <td>4</td>\n",
       "      <td>...</td>\n",
       "      <td>False</td>\n",
       "      <td>Aceita troca</td>\n",
       "      <td>NaN</td>\n",
       "      <td>NaN</td>\n",
       "      <td>IPVA pago</td>\n",
       "      <td>NaN</td>\n",
       "      <td>NaN</td>\n",
       "      <td>NaN</td>\n",
       "      <td>NaN</td>\n",
       "      <td>81965.332634</td>\n",
       "    </tr>\n",
       "    <tr>\n",
       "      <th>2</th>\n",
       "      <td>56414460810621048900295678236538171981</td>\n",
       "      <td>16.0</td>\n",
       "      <td>KIA</td>\n",
       "      <td>SORENTO</td>\n",
       "      <td>2.4 16V GASOLINA EX 7L AWD AUTOMÁTICO</td>\n",
       "      <td>2018</td>\n",
       "      <td>2019.0</td>\n",
       "      <td>44070.0</td>\n",
       "      <td>Automática</td>\n",
       "      <td>4</td>\n",
       "      <td>...</td>\n",
       "      <td>False</td>\n",
       "      <td>Aceita troca</td>\n",
       "      <td>NaN</td>\n",
       "      <td>NaN</td>\n",
       "      <td>NaN</td>\n",
       "      <td>NaN</td>\n",
       "      <td>NaN</td>\n",
       "      <td>NaN</td>\n",
       "      <td>NaN</td>\n",
       "      <td>162824.814472</td>\n",
       "    </tr>\n",
       "    <tr>\n",
       "      <th>3</th>\n",
       "      <td>56862509826849933428086372390159405545</td>\n",
       "      <td>14.0</td>\n",
       "      <td>VOLKSWAGEN</td>\n",
       "      <td>AMAROK</td>\n",
       "      <td>2.0 HIGHLINE 4X4 CD 16V TURBO INTERCOOLER DIES...</td>\n",
       "      <td>2013</td>\n",
       "      <td>2015.0</td>\n",
       "      <td>85357.0</td>\n",
       "      <td>Automática</td>\n",
       "      <td>4</td>\n",
       "      <td>...</td>\n",
       "      <td>False</td>\n",
       "      <td>Aceita troca</td>\n",
       "      <td>NaN</td>\n",
       "      <td>NaN</td>\n",
       "      <td>IPVA pago</td>\n",
       "      <td>Licenciado</td>\n",
       "      <td>NaN</td>\n",
       "      <td>NaN</td>\n",
       "      <td>NaN</td>\n",
       "      <td>123681.358857</td>\n",
       "    </tr>\n",
       "    <tr>\n",
       "      <th>4</th>\n",
       "      <td>338980975753200343894519909855598027197</td>\n",
       "      <td>8.0</td>\n",
       "      <td>SSANGYONG</td>\n",
       "      <td>KORANDO</td>\n",
       "      <td>2.0 GLS 4X4 16V TURBO DIESEL 4P AUTOMÁTICO</td>\n",
       "      <td>2013</td>\n",
       "      <td>2015.0</td>\n",
       "      <td>71491.0</td>\n",
       "      <td>Automática</td>\n",
       "      <td>4</td>\n",
       "      <td>...</td>\n",
       "      <td>False</td>\n",
       "      <td>NaN</td>\n",
       "      <td>NaN</td>\n",
       "      <td>Todas as revisões feitas pela concessionária</td>\n",
       "      <td>NaN</td>\n",
       "      <td>NaN</td>\n",
       "      <td>Garantia de fábrica</td>\n",
       "      <td>Todas as revisões feitas pela agenda do carro</td>\n",
       "      <td>NaN</td>\n",
       "      <td>82419.763891</td>\n",
       "    </tr>\n",
       "  </tbody>\n",
       "</table>\n",
       "<p>5 rows × 29 columns</p>\n",
       "</div>"
      ],
      "text/plain": [
       "                                        id  num_fotos       marca   modelo  \\\n",
       "0  300716223898539419613863097469899222392        8.0      NISSAN    KICKS   \n",
       "1  279639842134129588306469566150288644214        8.0        JEEP  COMPASS   \n",
       "2   56414460810621048900295678236538171981       16.0         KIA  SORENTO   \n",
       "3   56862509826849933428086372390159405545       14.0  VOLKSWAGEN   AMAROK   \n",
       "4  338980975753200343894519909855598027197        8.0   SSANGYONG  KORANDO   \n",
       "\n",
       "                                              versao  ano_de_fabricacao  \\\n",
       "0                    1.6 16V FLEXSTART SL 4P XTRONIC               2017   \n",
       "1                    2.0 16V FLEX LIMITED AUTOMÁTICO               2017   \n",
       "2              2.4 16V GASOLINA EX 7L AWD AUTOMÁTICO               2018   \n",
       "3  2.0 HIGHLINE 4X4 CD 16V TURBO INTERCOOLER DIES...               2013   \n",
       "4         2.0 GLS 4X4 16V TURBO DIESEL 4P AUTOMÁTICO               2013   \n",
       "\n",
       "   ano_modelo  hodometro      cambio  num_portas  ... elegivel_revisao  \\\n",
       "0      2017.0    67772.0         CVT           4  ...            False   \n",
       "1      2017.0    62979.0  Automática           4  ...            False   \n",
       "2      2019.0    44070.0  Automática           4  ...            False   \n",
       "3      2015.0    85357.0  Automática           4  ...            False   \n",
       "4      2015.0    71491.0  Automática           4  ...            False   \n",
       "\n",
       "  dono_aceita_troca veiculo_único_dono  \\\n",
       "0               NaN                NaN   \n",
       "1      Aceita troca                NaN   \n",
       "2      Aceita troca                NaN   \n",
       "3      Aceita troca                NaN   \n",
       "4               NaN                NaN   \n",
       "\n",
       "                        revisoes_concessionaria  ipva_pago veiculo_licenciado  \\\n",
       "0  Todas as revisões feitas pela concessionária  IPVA pago         Licenciado   \n",
       "1                                           NaN  IPVA pago                NaN   \n",
       "2                                           NaN        NaN                NaN   \n",
       "3                                           NaN  IPVA pago         Licenciado   \n",
       "4  Todas as revisões feitas pela concessionária        NaN                NaN   \n",
       "\n",
       "   garantia_de_fábrica                         revisoes_dentro_agenda  \\\n",
       "0                  NaN                                            NaN   \n",
       "1                  NaN                                            NaN   \n",
       "2                  NaN                                            NaN   \n",
       "3                  NaN                                            NaN   \n",
       "4  Garantia de fábrica  Todas as revisões feitas pela agenda do carro   \n",
       "\n",
       "   veiculo_alienado          preco  \n",
       "0               NaN   74732.590084  \n",
       "1               NaN   81965.332634  \n",
       "2               NaN  162824.814472  \n",
       "3               NaN  123681.358857  \n",
       "4               NaN   82419.763891  \n",
       "\n",
       "[5 rows x 29 columns]"
      ]
     },
     "execution_count": 17,
     "metadata": {},
     "output_type": "execute_result"
    }
   ],
   "source": [
    "## VISUALIZANDO APENAS AS PRIMEIRAS LINHAS \n",
    "df_cars_train.head()"
   ]
  },
  {
   "cell_type": "code",
   "execution_count": 18,
   "id": "814a6fb6",
   "metadata": {},
   "outputs": [
    {
     "name": "stdout",
     "output_type": "stream",
     "text": [
      "Não existem elementos duplicados na coluna 'id'.\n"
     ]
    }
   ],
   "source": [
    "##VERIFICANDO SE HÁ DADOS DUPLICADOS\n",
    "duplicados = df_cars_train['id'].duplicated()\n",
    "if duplicados.any():\n",
    "    print(\"Existem elementos duplicados na coluna 'id'.\")\n",
    "else:\n",
    "    print(\"Não existem elementos duplicados na coluna 'id'.\")"
   ]
  },
  {
   "cell_type": "code",
   "execution_count": 19,
   "id": "b8f70f6b",
   "metadata": {},
   "outputs": [
    {
     "name": "stdout",
     "output_type": "stream",
     "text": [
      "==== ÍNDICE DE NULOS NOS ATRIBUTOS ====\n",
      "id                           0.000000\n",
      "num_fotos                    0.598296\n",
      "marca                        0.000000\n",
      "modelo                       0.000000\n",
      "versao                       0.000000\n",
      "ano_de_fabricacao            0.000000\n",
      "ano_modelo                   0.000000\n",
      "hodometro                    0.000000\n",
      "cambio                       0.000000\n",
      "num_portas                   0.000000\n",
      "tipo                         0.000000\n",
      "blindado                     0.000000\n",
      "cor                          0.000000\n",
      "tipo_vendedor                0.000000\n",
      "cidade_vendedor              0.000000\n",
      "estado_vendedor              0.000000\n",
      "anunciante                   0.000000\n",
      "entrega_delivery             0.000000\n",
      "troca                        0.000000\n",
      "elegivel_revisao             0.000000\n",
      "dono_aceita_troca           25.899135\n",
      "veiculo_único_dono          64.768118\n",
      "revisoes_concessionaria     68.996755\n",
      "ipva_pago                   33.548540\n",
      "veiculo_licenciado          46.234451\n",
      "garantia_de_fábrica         85.245403\n",
      "revisoes_dentro_agenda      80.022985\n",
      "veiculo_alienado           100.000000\n",
      "preco                        0.000000\n",
      "dtype: float64\n"
     ]
    }
   ],
   "source": [
    "print(\"==== ÍNDICE DE NULOS NOS ATRIBUTOS ====\")\n",
    "dados = df_cars_train.copy()\n",
    "indice_nulos = (dados.isnull().sum() / len(dados) * 100)\n",
    "print(indice_nulos)"
   ]
  },
  {
   "cell_type": "code",
   "execution_count": 20,
   "id": "aa64b604",
   "metadata": {},
   "outputs": [],
   "source": [
    "## DELETANDO COLUNAS COM MAIS DE 50% DE VALORES NULOS\n",
    "\n",
    "limite = len(df_cars_train) * 0.5  # Definindo o limite de 50% dos valores nulos\n",
    "df_cars_train = df_cars_train.dropna(thresh=limite, axis=1)"
   ]
  },
  {
   "cell_type": "code",
   "execution_count": 21,
   "id": "2599151b",
   "metadata": {},
   "outputs": [
    {
     "name": "stdout",
     "output_type": "stream",
     "text": [
      "==== ÍNDICE DE NULOS NOS ATRIBUTOS ====\n",
      "id                     0.000000\n",
      "num_fotos              0.598296\n",
      "marca                  0.000000\n",
      "modelo                 0.000000\n",
      "versao                 0.000000\n",
      "ano_de_fabricacao      0.000000\n",
      "ano_modelo             0.000000\n",
      "hodometro              0.000000\n",
      "cambio                 0.000000\n",
      "num_portas             0.000000\n",
      "tipo                   0.000000\n",
      "blindado               0.000000\n",
      "cor                    0.000000\n",
      "tipo_vendedor          0.000000\n",
      "cidade_vendedor        0.000000\n",
      "estado_vendedor        0.000000\n",
      "anunciante             0.000000\n",
      "entrega_delivery       0.000000\n",
      "troca                  0.000000\n",
      "elegivel_revisao       0.000000\n",
      "dono_aceita_troca     25.899135\n",
      "ipva_pago             33.548540\n",
      "veiculo_licenciado    46.234451\n",
      "preco                  0.000000\n",
      "dtype: float64\n"
     ]
    }
   ],
   "source": [
    "print(\"==== ÍNDICE DE NULOS NOS ATRIBUTOS ====\")\n",
    "dados = df_cars_train.copy()\n",
    "indice_nulos = (dados.isnull().sum() / len(dados) * 100)\n",
    "print(indice_nulos)"
   ]
  },
  {
   "cell_type": "code",
   "execution_count": 22,
   "id": "948360d3",
   "metadata": {},
   "outputs": [],
   "source": [
    "mediana = df_cars_train['num_fotos'].median()  # Calculando a mediana da coluna \"num_fotos\"\n",
    "df_cars_train['num_fotos'].fillna(mediana, inplace=True)  # Substituindo os valores nulos pela mediana"
   ]
  },
  {
   "cell_type": "code",
   "execution_count": 28,
   "id": "edd4fd59",
   "metadata": {},
   "outputs": [],
   "source": [
    "moda_dono_aceita_troca = mode(df_cars_test['dono_aceita_troca'])[0][0]  # Calculando a moda da coluna \"dono_aceita_troca\"\n",
    "moda_ipva_pago = mode(df_cars_test['ipva_pago'])[0][0]  # Calculando a moda da coluna \"ipva_pago\"\n",
    "moda_veiculo_licenciado = mode(df_cars_test['veiculo_licenciado'])[0][0]  # Calculando a moda da coluna \"veiculo_licenciado\"\n",
    "\n",
    "df_cars_train['dono_aceita_troca'].fillna(moda_dono_aceita_troca, inplace=True)  # Substituindo os valores nulos pela moda em \"dono_aceita_troca\"\n",
    "df_cars_train['ipva_pago'].fillna(moda_ipva_pago, inplace=True)  # Substituindo os valores nulos pela moda em \"ipva_pago\"\n",
    "df_cars_train['veiculo_licenciado'].fillna(moda_veiculo_licenciado, inplace=True)  # Substituindo os valores nulos pela moda em \"veiculo_licenciado\""
   ]
  },
  {
   "cell_type": "code",
   "execution_count": 24,
   "id": "90c76d6f",
   "metadata": {},
   "outputs": [
    {
     "name": "stdout",
     "output_type": "stream",
     "text": [
      "==== ÍNDICE DE NULOS NOS ATRIBUTOS ====\n",
      "id                    0.0\n",
      "num_fotos             0.0\n",
      "marca                 0.0\n",
      "modelo                0.0\n",
      "versao                0.0\n",
      "ano_de_fabricacao     0.0\n",
      "ano_modelo            0.0\n",
      "hodometro             0.0\n",
      "cambio                0.0\n",
      "num_portas            0.0\n",
      "tipo                  0.0\n",
      "blindado              0.0\n",
      "cor                   0.0\n",
      "tipo_vendedor         0.0\n",
      "cidade_vendedor       0.0\n",
      "estado_vendedor       0.0\n",
      "anunciante            0.0\n",
      "entrega_delivery      0.0\n",
      "troca                 0.0\n",
      "elegivel_revisao      0.0\n",
      "dono_aceita_troca     0.0\n",
      "ipva_pago             0.0\n",
      "veiculo_licenciado    0.0\n",
      "preco                 0.0\n",
      "dtype: float64\n"
     ]
    }
   ],
   "source": [
    "print(\"==== ÍNDICE DE NULOS NOS ATRIBUTOS ====\")\n",
    "dados = df_cars_train.copy()\n",
    "indice_nulos = (dados.isnull().sum() / len(dados) * 100)\n",
    "print(indice_nulos)"
   ]
  },
  {
   "cell_type": "markdown",
   "id": "259a69ff",
   "metadata": {},
   "source": [
    "### Salvando os dados limpos em um novo dataframe"
   ]
  },
  {
   "cell_type": "code",
   "execution_count": 25,
   "id": "1424c9ab",
   "metadata": {},
   "outputs": [],
   "source": [
    "df_cars_train_limpos = df_cars_train.copy()  # Copia o DataFrame original para preservar os dados originais\n",
    "\n",
    "# Salvar o DataFrame limpo em um novo arquivo CSV\n",
    "df_cars_train_limpos.to_csv('df_cars_train_limpos.csv', index=False)"
   ]
  },
  {
   "cell_type": "markdown",
   "id": "9f4d0bfa",
   "metadata": {},
   "source": [
    "### Com base no que foi analisado inicialmente nos dados, realizamos os seguintes procedimentos para tratar os dados:\n",
    "- Importamos os dados utilizando os parametros encoding='utf-16', sep=\"\\t\"\n",
    "- Exclusão das colunas com mais de 50% de valores nulos (veiculo_alienado, revisoes_dentro_agenda, garantia_de_fábrica, revisoes_concessionaria, veiculo_único_dono)\n",
    "- Substituindo valores nulos pela mediana (dados numéricos) ou pela moda (dados categóricos)\n",
    "- Salvando os dados limpos em um novo dataframe"
   ]
  }
 ],
 "metadata": {
  "kernelspec": {
   "display_name": "Python 3 (ipykernel)",
   "language": "python",
   "name": "python3"
  },
  "language_info": {
   "codemirror_mode": {
    "name": "ipython",
    "version": 3
   },
   "file_extension": ".py",
   "mimetype": "text/x-python",
   "name": "python",
   "nbconvert_exporter": "python",
   "pygments_lexer": "ipython3",
   "version": "3.9.13"
  }
 },
 "nbformat": 4,
 "nbformat_minor": 5
}
