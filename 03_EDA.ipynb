{
 "cells": [
  {
   "cell_type": "markdown",
   "id": "772f32ab",
   "metadata": {},
   "source": [
    "# EDA"
   ]
  },
  {
   "cell_type": "code",
   "execution_count": 2,
   "id": "29bc742a",
   "metadata": {},
   "outputs": [],
   "source": [
    "import pandas as pd\n",
    "df_cars_train = pd.read_csv(\"df_cars_train_final.csv\")"
   ]
  },
  {
   "cell_type": "markdown",
   "id": "e0354f75",
   "metadata": {},
   "source": [
    "## Criando e respondendo 3 hipóteses de negócio"
   ]
  },
  {
   "cell_type": "markdown",
   "id": "90e88381",
   "metadata": {},
   "source": [
    "### Hipótese 1: Carros da marca Toyota possuem um preço médio mais alto em comparação com outras marcas populares.\n"
   ]
  },
  {
   "cell_type": "code",
   "execution_count": 3,
   "id": "5a6feb5e",
   "metadata": {},
   "outputs": [
    {
     "name": "stdout",
     "output_type": "stream",
     "text": [
      "Hipótese 1 confirmada: Carros da marca Toyota possuem um preço médio mais alto.\n"
     ]
    }
   ],
   "source": [
    "# Hipótese 1: Carros da marca Toyota possuem um preço médio mais alto em comparação com outras marcas populares\n",
    "marcas_populares = ['VOLKSWAGEN', 'CHEVROLET', 'FIAT', 'HYUNDAI', 'TOYOTA']\n",
    "carros_toyota = df_cars_train[df_cars_train['marca'] == 'TOYOTA']\n",
    "preco_medio_toyota = carros_toyota['preco'].mean()\n",
    "\n",
    "carros_marcas_populares = df_cars_train[df_cars_train['marca'].isin(marcas_populares)]\n",
    "preco_medio_populares = carros_marcas_populares['preco'].mean()\n",
    "\n",
    "if preco_medio_toyota > preco_medio_populares:\n",
    "    print(\"Hipótese 1 confirmada: Carros da marca Toyota possuem um preço médio mais alto.\")\n",
    "else:\n",
    "    print(\"Hipótese 1 não confirmada: Não há diferença significativa de preço entre carros da marca Toyota e outras marcas populares.\")"
   ]
  },
  {
   "cell_type": "markdown",
   "id": "6a1e1eae",
   "metadata": {},
   "source": [
    "### Hipótese 2: A maioria dos carros anunciados como \"aceita troca\" pertencem às marcas populares."
   ]
  },
  {
   "cell_type": "code",
   "execution_count": 4,
   "id": "7b5bc232",
   "metadata": {},
   "outputs": [
    {
     "name": "stdout",
     "output_type": "stream",
     "text": [
      "Proporção de carros que aceitam troca na marca VOLKSWAGEN: 15.53%\n",
      "Proporção de carros que aceitam troca na marca CHEVROLET: 10.21%\n",
      "Proporção de carros que aceitam troca na marca TOYOTA: 7.37%\n",
      "Proporção de carros que aceitam troca na marca HYUNDAI: 6.91%\n",
      "Proporção de carros que aceitam troca na marca FIAT: 6.48%\n",
      "\n",
      "Proporção total de carros que aceitam troca: 100.00%\n"
     ]
    }
   ],
   "source": [
    "# Filtrar carros com informação sobre aceitação de troca\n",
    "carros_aceita_troca = df_cars_train[df_cars_train['dono_aceita_troca'].notnull()]\n",
    "\n",
    "# Verificar distribuição das marcas\n",
    "marcas_aceita_troca = carros_aceita_troca['marca'].value_counts()\n",
    "\n",
    "# Identificar marcas populares\n",
    "marcas_populares = ['VOLKSWAGEN', 'CHEVROLET', 'TOYOTA', 'HYUNDAI', 'FIAT']\n",
    "\n",
    "# Calcular proporção de carros que aceitam troca nas marcas populares\n",
    "proporcao_marcas_populares = marcas_aceita_troca[marcas_aceita_troca.index.isin(marcas_populares)] / len(carros_aceita_troca)\n",
    "\n",
    "# Calcular proporção total de carros que aceitam troca\n",
    "proporcao_total = len(carros_aceita_troca) / len(df_cars_train)\n",
    "\n",
    "# Imprimir resultado\n",
    "for marca in marcas_populares:\n",
    "    print(f\"Proporção de carros que aceitam troca na marca {marca}: {proporcao_marcas_populares[marca]:.2%}\")\n",
    "\n",
    "print(f\"\\nProporção total de carros que aceitam troca: {proporcao_total:.2%}\")"
   ]
  },
  {
   "cell_type": "markdown",
   "id": "9821232b",
   "metadata": {},
   "source": [
    "### Hipótese 3: Carros com transmissão automática possuem um preço médio mais alto do que carros com transmissão manual."
   ]
  },
  {
   "cell_type": "code",
   "execution_count": 5,
   "id": "ce6ec26e",
   "metadata": {},
   "outputs": [
    {
     "name": "stdout",
     "output_type": "stream",
     "text": [
      "Hipótese 3 confirmada: Carros com transmissão automática possuem um preço médio mais alto.\n"
     ]
    }
   ],
   "source": [
    "# Hipótese 3: Carros com transmissão automática possuem um preço médio mais alto do que carros com transmissão manual\n",
    "carros_automaticos = df_cars_train[df_cars_train['cambio'] == 'Automática']\n",
    "preco_medio_automaticos = carros_automaticos['preco'].mean()\n",
    "\n",
    "carros_manuais = df_cars_train[df_cars_train['cambio'] == 'Manual']\n",
    "preco_medio_manuais = carros_manuais['preco'].mean()\n",
    "\n",
    "if preco_medio_automaticos > preco_medio_manuais:\n",
    "    print(\"Hipótese 3 confirmada: Carros com transmissão automática possuem um preço médio mais alto.\")\n",
    "else:\n",
    "    print(\"Hipótese 3 não confirmada: Não há diferença significativa de preço entre carros com transmissão automática e manual.\")"
   ]
  },
  {
   "cell_type": "markdown",
   "id": "d72eaa36",
   "metadata": {},
   "source": [
    "## Respondendo às perguntas de negócio"
   ]
  },
  {
   "cell_type": "markdown",
   "id": "b65c170f",
   "metadata": {},
   "source": [
    "### a. Qual o melhor estado cadastrado na base de dados para se vender um carro de marca popular e por quê?"
   ]
  },
  {
   "cell_type": "code",
   "execution_count": 6,
   "id": "706024f8",
   "metadata": {},
   "outputs": [
    {
     "name": "stdout",
     "output_type": "stream",
     "text": [
      "O melhor estado para se vender carros de marca popular é: São Paulo (SP) porque é isso que a análise dos dados nos mostra\n"
     ]
    }
   ],
   "source": [
    "# Filtrar carros de marca popular\n",
    "marcas_populares = ['VOLKSWAGEN', 'CHEVROLET', 'TOYOTA', 'HYUNDAI', 'JEEP', 'FIAT', 'BMW', 'AUDI', 'PEUGEOT', 'HONDA']\n",
    "carros_populares = df_cars_train[df_cars_train['marca'].isin(marcas_populares)]\n",
    "\n",
    "# Contar a quantidade de carros por estado\n",
    "carros_por_estado = carros_populares['estado_vendedor'].value_counts()\n",
    "\n",
    "# Obter o estado com maior quantidade de carros\n",
    "melhor_estado = carros_por_estado.idxmax()\n",
    "\n",
    "# Imprimir o resultado\n",
    "print(\"O melhor estado para se vender carros de marca popular é:\", melhor_estado, \"porque é isso que a análise dos dados nos mostra\")"
   ]
  },
  {
   "cell_type": "markdown",
   "id": "24b2a2d1",
   "metadata": {},
   "source": [
    "## b. Qual o melhor estado para se comprar uma picape com transmissão automática e por quê?"
   ]
  },
  {
   "cell_type": "code",
   "execution_count": 7,
   "id": "d8770ca5",
   "metadata": {},
   "outputs": [
    {
     "name": "stdout",
     "output_type": "stream",
     "text": [
      "O melhor estado para se comprar uma picape com transmissão automática é: São Paulo (SP) porque é isso que a análise dos dados nos mostra\n"
     ]
    }
   ],
   "source": [
    "# Filtrar carros do tipo picape e com transmissão automática\n",
    "picapes_automaticas = df_cars_train[(df_cars_train['tipo'] == 'Picape') & (df_cars_train['cambio'] == 'Automática')]\n",
    "\n",
    "# Contar a quantidade de carros por estado\n",
    "carros_por_estado = picapes_automaticas['estado_vendedor'].value_counts()\n",
    "\n",
    "# Obter o estado com maior quantidade de carros\n",
    "melhor_estado = carros_por_estado.idxmax()\n",
    "\n",
    "# Imprimir o resultado\n",
    "print(\"O melhor estado para se comprar uma picape com transmissão automática é:\", melhor_estado, \"porque é isso que a análise dos dados nos mostra\")"
   ]
  },
  {
   "cell_type": "markdown",
   "id": "f164c31a",
   "metadata": {},
   "source": [
    "## c. Qual o melhor estado para se comprar carros que ainda estejam dentro da garantia de fábrica e por quê?"
   ]
  },
  {
   "cell_type": "markdown",
   "id": "00989156",
   "metadata": {},
   "source": [
    "Para responder à pergunta sobre qual o melhor estado para se comprar carros que ainda estejam dentro da garantia de fábrica, vamos levar em consideração uma garantia de 5 anos, uma vez quea coluna garantia_de_fábrica foi deletada devido ao alto número de valores nulos, vamos pode seguir os seguintes passos:\n",
    "\n",
    "Calcular o ano limite para a garantia: Calcule o ano limite a partir do ano atual, considerando uma garantia de 5 anos. Por exemplo, se o ano atual for 2023, o ano limite para a garantia seria 2018 (2023 - 5).\n",
    "\n",
    "Filtrar os carros dentro da garantia: Crie uma nova coluna no DataFrame para indicar se o carro está dentro da garantia. Para isso, verifique se o ano de fabricação do carro é maior ou igual ao ano limite calculado.\n",
    "\n",
    "Agrupar os carros por estado: Agrupe os carros por estado e conte a quantidade de carros dentro da garantia em cada estado.\n",
    "\n",
    "Identificar o estado com maior quantidade de carros dentro da garantia: Verifique qual estado possui a maior quantidade de carros dentro da garantia."
   ]
  },
  {
   "cell_type": "code",
   "execution_count": 8,
   "id": "1e0635b5",
   "metadata": {},
   "outputs": [
    {
     "name": "stdout",
     "output_type": "stream",
     "text": [
      "O melhor estado para se comprar carros dentro da garantia de fábrica é: São Paulo (SP) porque é isso que a análise dos dados nos mostra\n"
     ]
    }
   ],
   "source": [
    "import datetime\n",
    "\n",
    "# Calcula o ano limite para a garantia\n",
    "ano_atual = datetime.datetime.now().year\n",
    "ano_limite_garantia = ano_atual - 5\n",
    "\n",
    "# Cria uma nova coluna indicando se o carro está dentro da garantia\n",
    "df_cars_train['dentro_garantia'] = df_cars_train['ano_de_fabricacao'] >= ano_limite_garantia\n",
    "\n",
    "# Agrupa os carros por estado e conta a quantidade de carros dentro da garantia em cada estado\n",
    "carros_garantia_por_estado = df_cars_train.groupby('estado_vendedor')['dentro_garantia'].sum()\n",
    "\n",
    "# Identifica o estado com maior quantidade de carros dentro da garantia\n",
    "melhor_estado_garantia = carros_garantia_por_estado.idxmax()\n",
    "\n",
    "print(\"O melhor estado para se comprar carros dentro da garantia de fábrica é:\", melhor_estado_garantia, \"porque é isso que a análise dos dados nos mostra\")"
   ]
  }
 ],
 "metadata": {
  "kernelspec": {
   "display_name": "Python 3 (ipykernel)",
   "language": "python",
   "name": "python3"
  },
  "language_info": {
   "codemirror_mode": {
    "name": "ipython",
    "version": 3
   },
   "file_extension": ".py",
   "mimetype": "text/x-python",
   "name": "python",
   "nbconvert_exporter": "python",
   "pygments_lexer": "ipython3",
   "version": "3.9.13"
  }
 },
 "nbformat": 4,
 "nbformat_minor": 5
}
