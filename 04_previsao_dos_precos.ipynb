{
 "cells": [
  {
   "cell_type": "markdown",
   "id": "45fa3cad",
   "metadata": {},
   "source": [
    "# PREVISÃO DOS PREÇOS"
   ]
  },
  {
   "cell_type": "markdown",
   "id": "dc8c4628",
   "metadata": {},
   "source": [
    "### Respondendo a pergunta 3 da seção Entregas"
   ]
  },
  {
   "cell_type": "markdown",
   "id": "2d443acf",
   "metadata": {},
   "source": [
    "Para a previsão do preço a partir dos dados, podemos abordar o problema como uma REGRESSÃO, onde nosso objetivo é estimar o valor contínuo do preço dos carros com base nas variáveis disponíveis.\n",
    "\n",
    "Como não há regras reais de negócios,tanto quanto interesses específicos para este projeto, realizei uma pesquisa breve e considerei com nos dados, estas colunas como as mais relevantes, sendo assim , podemos utilizar as seguintes variáveis como entrada para o modelo de regressão:\n",
    "\n",
    "1. Marca: Transformar a coluna de marca em variáveis binárias (dummy variables) para capturar a presença ou ausência de cada marca no conjunto de dados. Isso permitirá que o modelo leve em consideração o efeito da marca no preço.\n",
    "\n",
    "2. Modelo: Da mesma forma, podemos transformar a coluna de modelo em variáveis binárias para cada modelo presente nos dados.\n",
    "\n",
    "3. Ano de fabricação: Utilizar o ano de fabricação diretamente como uma variável numérica.\n",
    "\n",
    "4. Hodômetro: Manter o hodômetro como uma variável numérica.\n",
    "\n",
    "5. Tipo de vendedor: Transformar a coluna de tipo de vendedor em variáveis binárias para capturar a presença ou ausência de cada tipo de vendedor.\n",
    "\n",
    "6. Tipo de câmbio: Transformar a coluna de tipo de câmbio em variáveis binárias para cada tipo presente nos dados.\n",
    "\n",
    "7. Blindado: Transformar a coluna de blindado em variáveis binárias para capturar a presença ou ausência de carros blindados.\n",
    "\n",
    "8. Estado: Transformar a coluna de estado em variáveis binárias para cada estado presente nos dados.\n",
    "\n",
    "9. Preço: Manter o preco como uma variável numérica.          \n",
    "\n",
    "Com relação ao modelo, uma abordagem comum para previsão de preços de carros é a utilização de regressão linear.\n",
    "\n",
    "Para avaliar o desempenho do modelo de regressão, foram utilizadas duas métricas comuns: R² (coeficiente de determinação) e MAE (erro absoluto médio).\n",
    "\n",
    "O coeficiente de determinação (R²) mede a proporção da variabilidade da variável de resposta (preço dos carros) que é explicada pelo modelo. Ele varia de 0 a 1, onde 0 indica que o modelo não é capaz de explicar a variabilidade dos dados e 1 indica que o modelo explica perfeitamente a variabilidade.\n",
    "\n",
    "O erro absoluto médio (MAE) é uma medida da diferença média entre os valores previstos e os valores reais do preço dos carros. Ele representa a magnitude média dos erros de previsão e fornece uma ideia do quão bem o modelo está fazendo a previsão em termos de unidades da variável de resposta.\n",
    "\n",
    "Essas métricas nos ajudam a avaliar o desempenho do modelo de regressão e fornecem uma medida quantitativa de quão bem o modelo está fazendo a previsão dos preços dos carros. Um valor mais alto de R² e um valor mais baixo de MAE indicam um melhor desempenho do modelo."
   ]
  },
  {
   "cell_type": "markdown",
   "id": "cc98f22f",
   "metadata": {},
   "source": [
    "### Importando as bibliotecas uteis"
   ]
  },
  {
   "cell_type": "code",
   "execution_count": 109,
   "id": "3fad0164",
   "metadata": {},
   "outputs": [],
   "source": [
    "import warnings\n",
    "warnings.filterwarnings(\"ignore\")\n",
    "\n",
    "import pandas as pd\n",
    "import numpy as np\n",
    "from sklearn.linear_model import LinearRegression\n",
    "from sklearn.model_selection import train_test_split\n",
    "from sklearn.metrics import mean_squared_error, r2_score\n",
    "from xgboost import XGBRegressor\n",
    "import seaborn as sns\n",
    "import matplotlib.pyplot as plt"
   ]
  },
  {
   "cell_type": "code",
   "execution_count": 110,
   "id": "9e55cf13",
   "metadata": {},
   "outputs": [],
   "source": [
    "df_cars_train = pd.read_csv(\"df_cars_train_final.csv\")"
   ]
  },
  {
   "cell_type": "code",
   "execution_count": 111,
   "id": "02daa21e",
   "metadata": {},
   "outputs": [
    {
     "data": {
      "text/html": [
       "<div>\n",
       "<style scoped>\n",
       "    .dataframe tbody tr th:only-of-type {\n",
       "        vertical-align: middle;\n",
       "    }\n",
       "\n",
       "    .dataframe tbody tr th {\n",
       "        vertical-align: top;\n",
       "    }\n",
       "\n",
       "    .dataframe thead th {\n",
       "        text-align: right;\n",
       "    }\n",
       "</style>\n",
       "<table border=\"1\" class=\"dataframe\">\n",
       "  <thead>\n",
       "    <tr style=\"text-align: right;\">\n",
       "      <th></th>\n",
       "      <th>marca</th>\n",
       "      <th>modelo</th>\n",
       "      <th>ano_de_fabricacao</th>\n",
       "      <th>hodometro</th>\n",
       "      <th>cambio</th>\n",
       "      <th>tipo_vendedor</th>\n",
       "      <th>blindado</th>\n",
       "      <th>estado_vendedor</th>\n",
       "      <th>preco</th>\n",
       "    </tr>\n",
       "  </thead>\n",
       "  <tbody>\n",
       "    <tr>\n",
       "      <th>0</th>\n",
       "      <td>NISSAN</td>\n",
       "      <td>KICKS</td>\n",
       "      <td>2017</td>\n",
       "      <td>67772.0</td>\n",
       "      <td>CVT</td>\n",
       "      <td>PF</td>\n",
       "      <td>N</td>\n",
       "      <td>São Paulo (SP)</td>\n",
       "      <td>11.221685</td>\n",
       "    </tr>\n",
       "    <tr>\n",
       "      <th>1</th>\n",
       "      <td>JEEP</td>\n",
       "      <td>COMPASS</td>\n",
       "      <td>2017</td>\n",
       "      <td>62979.0</td>\n",
       "      <td>Automática</td>\n",
       "      <td>PF</td>\n",
       "      <td>N</td>\n",
       "      <td>Minas Gerais (MG)</td>\n",
       "      <td>11.314064</td>\n",
       "    </tr>\n",
       "    <tr>\n",
       "      <th>2</th>\n",
       "      <td>KIA</td>\n",
       "      <td>SORENTO</td>\n",
       "      <td>2018</td>\n",
       "      <td>44070.0</td>\n",
       "      <td>Automática</td>\n",
       "      <td>PJ</td>\n",
       "      <td>N</td>\n",
       "      <td>São Paulo (SP)</td>\n",
       "      <td>12.000436</td>\n",
       "    </tr>\n",
       "    <tr>\n",
       "      <th>3</th>\n",
       "      <td>VOLKSWAGEN</td>\n",
       "      <td>AMAROK</td>\n",
       "      <td>2013</td>\n",
       "      <td>85357.0</td>\n",
       "      <td>Automática</td>\n",
       "      <td>PJ</td>\n",
       "      <td>N</td>\n",
       "      <td>São Paulo (SP)</td>\n",
       "      <td>11.725472</td>\n",
       "    </tr>\n",
       "    <tr>\n",
       "      <th>4</th>\n",
       "      <td>SSANGYONG</td>\n",
       "      <td>KORANDO</td>\n",
       "      <td>2013</td>\n",
       "      <td>71491.0</td>\n",
       "      <td>Automática</td>\n",
       "      <td>PF</td>\n",
       "      <td>N</td>\n",
       "      <td>Rio de Janeiro (RJ)</td>\n",
       "      <td>11.319593</td>\n",
       "    </tr>\n",
       "  </tbody>\n",
       "</table>\n",
       "</div>"
      ],
      "text/plain": [
       "        marca   modelo  ano_de_fabricacao  hodometro      cambio  \\\n",
       "0      NISSAN    KICKS               2017    67772.0         CVT   \n",
       "1        JEEP  COMPASS               2017    62979.0  Automática   \n",
       "2         KIA  SORENTO               2018    44070.0  Automática   \n",
       "3  VOLKSWAGEN   AMAROK               2013    85357.0  Automática   \n",
       "4   SSANGYONG  KORANDO               2013    71491.0  Automática   \n",
       "\n",
       "  tipo_vendedor blindado      estado_vendedor      preco  \n",
       "0            PF        N       São Paulo (SP)  11.221685  \n",
       "1            PF        N    Minas Gerais (MG)  11.314064  \n",
       "2            PJ        N       São Paulo (SP)  12.000436  \n",
       "3            PJ        N       São Paulo (SP)  11.725472  \n",
       "4            PF        N  Rio de Janeiro (RJ)  11.319593  "
      ]
     },
     "execution_count": 111,
     "metadata": {},
     "output_type": "execute_result"
    }
   ],
   "source": [
    "# Selecionar as colunas relevantes\n",
    "colunas_relevantes = ['marca', 'modelo', 'ano_de_fabricacao', 'hodometro', 'cambio', 'tipo_vendedor', 'blindado', 'estado_vendedor', 'preco']\n",
    "df_relevante = df_cars_train[colunas_relevantes]\n",
    "\n",
    "# Aplicar a transformação logarítmica\n",
    "df_relevante['preco'] = np.log1p(df_relevante['preco'])\n",
    "\n",
    "# Exibir o novo DataFrame com as colunas relevantes\n",
    "df_relevante.head()"
   ]
  },
  {
   "cell_type": "markdown",
   "id": "cb82b0ef",
   "metadata": {},
   "source": [
    "### Transformando as colunas categóricas em variáveis binárias (dummy variables)"
   ]
  },
  {
   "cell_type": "code",
   "execution_count": 112,
   "id": "d4aa4c47",
   "metadata": {},
   "outputs": [
    {
     "data": {
      "text/html": [
       "<div>\n",
       "<style scoped>\n",
       "    .dataframe tbody tr th:only-of-type {\n",
       "        vertical-align: middle;\n",
       "    }\n",
       "\n",
       "    .dataframe tbody tr th {\n",
       "        vertical-align: top;\n",
       "    }\n",
       "\n",
       "    .dataframe thead th {\n",
       "        text-align: right;\n",
       "    }\n",
       "</style>\n",
       "<table border=\"1\" class=\"dataframe\">\n",
       "  <thead>\n",
       "    <tr style=\"text-align: right;\">\n",
       "      <th></th>\n",
       "      <th>ano_de_fabricacao</th>\n",
       "      <th>hodometro</th>\n",
       "      <th>preco</th>\n",
       "      <th>marca_AUDI</th>\n",
       "      <th>marca_BMW</th>\n",
       "      <th>marca_BRM</th>\n",
       "      <th>marca_CHERY</th>\n",
       "      <th>marca_CHEVROLET</th>\n",
       "      <th>marca_CHRYSLER</th>\n",
       "      <th>marca_CITROËN</th>\n",
       "      <th>...</th>\n",
       "      <th>estado_vendedor_Piauí (PI)</th>\n",
       "      <th>estado_vendedor_Rio Grande do Norte (RN)</th>\n",
       "      <th>estado_vendedor_Rio Grande do Sul (RS)</th>\n",
       "      <th>estado_vendedor_Rio de Janeiro (RJ)</th>\n",
       "      <th>estado_vendedor_Rondônia (RO)</th>\n",
       "      <th>estado_vendedor_Roraima (RR)</th>\n",
       "      <th>estado_vendedor_Santa Catarina (SC)</th>\n",
       "      <th>estado_vendedor_Sergipe (SE)</th>\n",
       "      <th>estado_vendedor_São Paulo (SP)</th>\n",
       "      <th>estado_vendedor_Tocantins (TO)</th>\n",
       "    </tr>\n",
       "  </thead>\n",
       "  <tbody>\n",
       "    <tr>\n",
       "      <th>0</th>\n",
       "      <td>2017</td>\n",
       "      <td>67772.0</td>\n",
       "      <td>11.221685</td>\n",
       "      <td>0</td>\n",
       "      <td>0</td>\n",
       "      <td>0</td>\n",
       "      <td>0</td>\n",
       "      <td>0</td>\n",
       "      <td>0</td>\n",
       "      <td>0</td>\n",
       "      <td>...</td>\n",
       "      <td>0</td>\n",
       "      <td>0</td>\n",
       "      <td>0</td>\n",
       "      <td>0</td>\n",
       "      <td>0</td>\n",
       "      <td>0</td>\n",
       "      <td>0</td>\n",
       "      <td>0</td>\n",
       "      <td>1</td>\n",
       "      <td>0</td>\n",
       "    </tr>\n",
       "    <tr>\n",
       "      <th>1</th>\n",
       "      <td>2017</td>\n",
       "      <td>62979.0</td>\n",
       "      <td>11.314064</td>\n",
       "      <td>0</td>\n",
       "      <td>0</td>\n",
       "      <td>0</td>\n",
       "      <td>0</td>\n",
       "      <td>0</td>\n",
       "      <td>0</td>\n",
       "      <td>0</td>\n",
       "      <td>...</td>\n",
       "      <td>0</td>\n",
       "      <td>0</td>\n",
       "      <td>0</td>\n",
       "      <td>0</td>\n",
       "      <td>0</td>\n",
       "      <td>0</td>\n",
       "      <td>0</td>\n",
       "      <td>0</td>\n",
       "      <td>0</td>\n",
       "      <td>0</td>\n",
       "    </tr>\n",
       "    <tr>\n",
       "      <th>2</th>\n",
       "      <td>2018</td>\n",
       "      <td>44070.0</td>\n",
       "      <td>12.000436</td>\n",
       "      <td>0</td>\n",
       "      <td>0</td>\n",
       "      <td>0</td>\n",
       "      <td>0</td>\n",
       "      <td>0</td>\n",
       "      <td>0</td>\n",
       "      <td>0</td>\n",
       "      <td>...</td>\n",
       "      <td>0</td>\n",
       "      <td>0</td>\n",
       "      <td>0</td>\n",
       "      <td>0</td>\n",
       "      <td>0</td>\n",
       "      <td>0</td>\n",
       "      <td>0</td>\n",
       "      <td>0</td>\n",
       "      <td>1</td>\n",
       "      <td>0</td>\n",
       "    </tr>\n",
       "    <tr>\n",
       "      <th>3</th>\n",
       "      <td>2013</td>\n",
       "      <td>85357.0</td>\n",
       "      <td>11.725472</td>\n",
       "      <td>0</td>\n",
       "      <td>0</td>\n",
       "      <td>0</td>\n",
       "      <td>0</td>\n",
       "      <td>0</td>\n",
       "      <td>0</td>\n",
       "      <td>0</td>\n",
       "      <td>...</td>\n",
       "      <td>0</td>\n",
       "      <td>0</td>\n",
       "      <td>0</td>\n",
       "      <td>0</td>\n",
       "      <td>0</td>\n",
       "      <td>0</td>\n",
       "      <td>0</td>\n",
       "      <td>0</td>\n",
       "      <td>1</td>\n",
       "      <td>0</td>\n",
       "    </tr>\n",
       "    <tr>\n",
       "      <th>4</th>\n",
       "      <td>2013</td>\n",
       "      <td>71491.0</td>\n",
       "      <td>11.319593</td>\n",
       "      <td>0</td>\n",
       "      <td>0</td>\n",
       "      <td>0</td>\n",
       "      <td>0</td>\n",
       "      <td>0</td>\n",
       "      <td>0</td>\n",
       "      <td>0</td>\n",
       "      <td>...</td>\n",
       "      <td>0</td>\n",
       "      <td>0</td>\n",
       "      <td>0</td>\n",
       "      <td>1</td>\n",
       "      <td>0</td>\n",
       "      <td>0</td>\n",
       "      <td>0</td>\n",
       "      <td>0</td>\n",
       "      <td>0</td>\n",
       "      <td>0</td>\n",
       "    </tr>\n",
       "  </tbody>\n",
       "</table>\n",
       "<p>5 rows × 530 columns</p>\n",
       "</div>"
      ],
      "text/plain": [
       "   ano_de_fabricacao  hodometro      preco  marca_AUDI  marca_BMW  marca_BRM  \\\n",
       "0               2017    67772.0  11.221685           0          0          0   \n",
       "1               2017    62979.0  11.314064           0          0          0   \n",
       "2               2018    44070.0  12.000436           0          0          0   \n",
       "3               2013    85357.0  11.725472           0          0          0   \n",
       "4               2013    71491.0  11.319593           0          0          0   \n",
       "\n",
       "   marca_CHERY  marca_CHEVROLET  marca_CHRYSLER  marca_CITROËN  ...  \\\n",
       "0            0                0               0              0  ...   \n",
       "1            0                0               0              0  ...   \n",
       "2            0                0               0              0  ...   \n",
       "3            0                0               0              0  ...   \n",
       "4            0                0               0              0  ...   \n",
       "\n",
       "   estado_vendedor_Piauí (PI)  estado_vendedor_Rio Grande do Norte (RN)  \\\n",
       "0                           0                                         0   \n",
       "1                           0                                         0   \n",
       "2                           0                                         0   \n",
       "3                           0                                         0   \n",
       "4                           0                                         0   \n",
       "\n",
       "   estado_vendedor_Rio Grande do Sul (RS)  \\\n",
       "0                                       0   \n",
       "1                                       0   \n",
       "2                                       0   \n",
       "3                                       0   \n",
       "4                                       0   \n",
       "\n",
       "   estado_vendedor_Rio de Janeiro (RJ)  estado_vendedor_Rondônia (RO)  \\\n",
       "0                                    0                              0   \n",
       "1                                    0                              0   \n",
       "2                                    0                              0   \n",
       "3                                    0                              0   \n",
       "4                                    1                              0   \n",
       "\n",
       "   estado_vendedor_Roraima (RR)  estado_vendedor_Santa Catarina (SC)  \\\n",
       "0                             0                                    0   \n",
       "1                             0                                    0   \n",
       "2                             0                                    0   \n",
       "3                             0                                    0   \n",
       "4                             0                                    0   \n",
       "\n",
       "   estado_vendedor_Sergipe (SE)  estado_vendedor_São Paulo (SP)  \\\n",
       "0                             0                               1   \n",
       "1                             0                               0   \n",
       "2                             0                               1   \n",
       "3                             0                               1   \n",
       "4                             0                               0   \n",
       "\n",
       "   estado_vendedor_Tocantins (TO)  \n",
       "0                               0  \n",
       "1                               0  \n",
       "2                               0  \n",
       "3                               0  \n",
       "4                               0  \n",
       "\n",
       "[5 rows x 530 columns]"
      ]
     },
     "execution_count": 112,
     "metadata": {},
     "output_type": "execute_result"
    }
   ],
   "source": [
    "# Selecionar todas as colunas não numéricas\n",
    "colunas_categoricas = df_relevante.select_dtypes(include=['object', 'bool']).columns\n",
    "\n",
    "# Transformar as colunas não numéricas em variáveis binárias\n",
    "df_binario = pd.get_dummies(df_relevante, columns=colunas_categoricas, drop_first=True)\n",
    "\n",
    "# Exibir df_binarioo novo dataframe com as variáveis binárias\n",
    "df_binario.head()"
   ]
  },
  {
   "cell_type": "markdown",
   "id": "44fed313",
   "metadata": {},
   "source": [
    "### Divisão dos dados"
   ]
  },
  {
   "cell_type": "code",
   "execution_count": 113,
   "id": "00cb25e1",
   "metadata": {},
   "outputs": [],
   "source": [
    "X = df_binario.drop('preco', axis=1)\n",
    "y = df_binario['preco']"
   ]
  },
  {
   "cell_type": "markdown",
   "id": "051e20df",
   "metadata": {},
   "source": [
    "### Divisão em conjunto de treinamento e teste"
   ]
  },
  {
   "cell_type": "code",
   "execution_count": 114,
   "id": "c7160f8e",
   "metadata": {},
   "outputs": [],
   "source": [
    "X_train, X_test, y_train, y_test = train_test_split(X, y, test_size=0.2, random_state=42)"
   ]
  },
  {
   "cell_type": "markdown",
   "id": "29b4ad12",
   "metadata": {},
   "source": [
    "### Criação do modelo de previsão de preços"
   ]
  },
  {
   "cell_type": "code",
   "execution_count": 115,
   "id": "7353f811",
   "metadata": {},
   "outputs": [
    {
     "data": {
      "text/plain": [
       "XGBRegressor(base_score=None, booster=None, callbacks=None,\n",
       "             colsample_bylevel=None, colsample_bynode=None,\n",
       "             colsample_bytree=None, early_stopping_rounds=None,\n",
       "             enable_categorical=False, eval_metric=None, feature_types=None,\n",
       "             gamma=None, gpu_id=None, grow_policy=None, importance_type=None,\n",
       "             interaction_constraints=None, learning_rate=None, max_bin=None,\n",
       "             max_cat_threshold=None, max_cat_to_onehot=None,\n",
       "             max_delta_step=None, max_depth=None, max_leaves=None,\n",
       "             min_child_weight=None, missing=nan, monotone_constraints=None,\n",
       "             n_estimators=100, n_jobs=None, num_parallel_tree=None,\n",
       "             predictor=None, random_state=None, ...)"
      ]
     },
     "execution_count": 115,
     "metadata": {},
     "output_type": "execute_result"
    }
   ],
   "source": [
    "model = XGBRegressor()\n",
    "model.fit(X_train, y_train)"
   ]
  },
  {
   "cell_type": "markdown",
   "id": "4c8e1415",
   "metadata": {},
   "source": [
    "### Avaliação do modelo"
   ]
  },
  {
   "cell_type": "code",
   "execution_count": 116,
   "id": "cd28ff83",
   "metadata": {},
   "outputs": [
    {
     "name": "stdout",
     "output_type": "stream",
     "text": [
      "R²: 0.6908761456110516\n",
      "MAE: 0.24092141869048744\n"
     ]
    }
   ],
   "source": [
    "y_pred = model.predict(X_test)\n",
    "\n",
    "from sklearn.metrics import r2_score, mean_absolute_error\n",
    "\n",
    "r2 = r2_score(y_test, y_pred)\n",
    "mae = mean_absolute_error(y_test, y_pred)\n",
    "\n",
    "print('R²:', r2)\n",
    "print('MAE:', mae)"
   ]
  },
  {
   "cell_type": "markdown",
   "id": "0d1c7ac7",
   "metadata": {},
   "source": [
    "Um R² de 0.6909 indica que o modelo tem uma capacidade razoável de explicar a variabilidade dos preços com base nas variáveis independentes utilizadas. \n",
    "\n",
    "No entanto, o MAE de 0.2409 indica que ainda existe uma margem de erro considerável nas previsões de preços realizadas pelo modelo."
   ]
  },
  {
   "cell_type": "markdown",
   "id": "ecebc343",
   "metadata": {},
   "source": [
    "### Obtendo os valores previstos"
   ]
  },
  {
   "cell_type": "code",
   "execution_count": 117,
   "id": "062e53f8",
   "metadata": {},
   "outputs": [
    {
     "name": "stdout",
     "output_type": "stream",
     "text": [
      "[11.746242  11.2765255 11.744368  ... 10.9049635 12.511687  12.481439 ]\n"
     ]
    }
   ],
   "source": [
    "print(y_pred)"
   ]
  },
  {
   "cell_type": "markdown",
   "id": "1b924b81",
   "metadata": {},
   "source": [
    "### Comparando os valores originais com os valores previstos"
   ]
  },
  {
   "cell_type": "code",
   "execution_count": 118,
   "id": "7f5df2a9",
   "metadata": {},
   "outputs": [
    {
     "name": "stdout",
     "output_type": "stream",
     "text": [
      "       Preço Original  Preço Previsto\n",
      "7936        12.081927       11.746242\n",
      "22472       11.064890       11.276525\n",
      "18848       11.613554       11.744368\n",
      "24252       12.941950       12.511095\n",
      "17123       11.680345       11.594167\n",
      "...               ...             ...\n",
      "14865       11.667642       11.776496\n",
      "13630       11.779896       11.283760\n",
      "3509        10.681556       10.904963\n",
      "27544       12.597950       12.511687\n",
      "11176       12.456685       12.481439\n",
      "\n",
      "[5917 rows x 2 columns]\n"
     ]
    }
   ],
   "source": [
    "# Converter os valores previstos em um DataFrame\n",
    "df_pred = pd.DataFrame({'Preço Original': y_test, 'Preço Previsto': y_pred})\n",
    "\n",
    "# Imprimir o DataFrame\n",
    "print(df_pred)"
   ]
  },
  {
   "cell_type": "code",
   "execution_count": 119,
   "id": "7c446408",
   "metadata": {},
   "outputs": [
    {
     "name": "stdout",
     "output_type": "stream",
     "text": [
      "       Preço Original  Preço Previsto\n",
      "7936    176649.291489   126277.062500\n",
      "22472    63887.181849    78945.484375\n",
      "18848   110585.626201   126040.640625\n",
      "24252   417461.596397   271330.093750\n",
      "17123   118224.015684   108462.257812\n",
      "...               ...             ...\n",
      "14865   116731.681919   130155.898438\n",
      "13630   130599.138413    79518.703125\n",
      "3509     43544.236441    54444.937500\n",
      "27544   295950.256041   271490.812500\n",
      "11176   256961.328558   263401.531250\n",
      "\n",
      "[5917 rows x 2 columns]\n"
     ]
    }
   ],
   "source": [
    "# Aplicar a transformação inversa logarítmica nos valores das colunas \"Preço Original\" e \"Preço Previsto\"\n",
    "df_pred['Preço Original'] = np.expm1(df_pred['Preço Original'])\n",
    "df_pred['Preço Previsto'] = np.expm1(df_pred['Preço Previsto'])\n",
    "\n",
    "# Imprimir o DataFrame com os valores desfeitos da transformação logarítmica\n",
    "print(df_pred)"
   ]
  },
  {
   "cell_type": "markdown",
   "id": "d3d1a7d5",
   "metadata": {},
   "source": [
    "Ao analisar os resultados, podemos ver que, em alguns casos, os valores previstos pelo modelo se aproximam dos valores reais (\"Preço Original\"), enquanto em outros casos há uma diferença considerável entre os valores previstos e os valores reais.\n",
    "\n",
    "É importante considerar que a qualidade da previsão do modelo pode variar de acordo com a complexidade dos dados e a capacidade do modelo em capturar os padrões subjacentes."
   ]
  },
  {
   "cell_type": "markdown",
   "id": "0bd393c8",
   "metadata": {},
   "source": [
    "## Vamos aplicar a previsão ao dataframe df_cars_test_final"
   ]
  },
  {
   "cell_type": "code",
   "execution_count": 120,
   "id": "0f677f8f",
   "metadata": {},
   "outputs": [],
   "source": [
    "df_cars_test = pd.read_csv(\"df_cars_test_final.csv\")"
   ]
  },
  {
   "cell_type": "markdown",
   "id": "f4d18223",
   "metadata": {},
   "source": [
    "### Transformando as colunas categóricas em variáveis binárias (dummy variables)"
   ]
  },
  {
   "cell_type": "code",
   "execution_count": 121,
   "id": "730eb43d",
   "metadata": {},
   "outputs": [
    {
     "data": {
      "text/html": [
       "<div>\n",
       "<style scoped>\n",
       "    .dataframe tbody tr th:only-of-type {\n",
       "        vertical-align: middle;\n",
       "    }\n",
       "\n",
       "    .dataframe tbody tr th {\n",
       "        vertical-align: top;\n",
       "    }\n",
       "\n",
       "    .dataframe thead th {\n",
       "        text-align: right;\n",
       "    }\n",
       "</style>\n",
       "<table border=\"1\" class=\"dataframe\">\n",
       "  <thead>\n",
       "    <tr style=\"text-align: right;\">\n",
       "      <th></th>\n",
       "      <th>ano_de_fabricacao</th>\n",
       "      <th>hodometro</th>\n",
       "      <th>preco</th>\n",
       "      <th>marca_AUDI</th>\n",
       "      <th>marca_BMW</th>\n",
       "      <th>marca_BRM</th>\n",
       "      <th>marca_CHERY</th>\n",
       "      <th>marca_CHEVROLET</th>\n",
       "      <th>marca_CHRYSLER</th>\n",
       "      <th>marca_CITROËN</th>\n",
       "      <th>...</th>\n",
       "      <th>estado_vendedor_Piauí (PI)</th>\n",
       "      <th>estado_vendedor_Rio Grande do Norte (RN)</th>\n",
       "      <th>estado_vendedor_Rio Grande do Sul (RS)</th>\n",
       "      <th>estado_vendedor_Rio de Janeiro (RJ)</th>\n",
       "      <th>estado_vendedor_Rondônia (RO)</th>\n",
       "      <th>estado_vendedor_Roraima (RR)</th>\n",
       "      <th>estado_vendedor_Santa Catarina (SC)</th>\n",
       "      <th>estado_vendedor_Sergipe (SE)</th>\n",
       "      <th>estado_vendedor_São Paulo (SP)</th>\n",
       "      <th>estado_vendedor_Tocantins (TO)</th>\n",
       "    </tr>\n",
       "  </thead>\n",
       "  <tbody>\n",
       "    <tr>\n",
       "      <th>0</th>\n",
       "      <td>2017</td>\n",
       "      <td>67772.0</td>\n",
       "      <td>11.221685</td>\n",
       "      <td>0</td>\n",
       "      <td>0</td>\n",
       "      <td>0</td>\n",
       "      <td>0</td>\n",
       "      <td>0</td>\n",
       "      <td>0</td>\n",
       "      <td>0</td>\n",
       "      <td>...</td>\n",
       "      <td>0</td>\n",
       "      <td>0</td>\n",
       "      <td>0</td>\n",
       "      <td>0</td>\n",
       "      <td>0</td>\n",
       "      <td>0</td>\n",
       "      <td>0</td>\n",
       "      <td>0</td>\n",
       "      <td>1</td>\n",
       "      <td>0</td>\n",
       "    </tr>\n",
       "    <tr>\n",
       "      <th>1</th>\n",
       "      <td>2017</td>\n",
       "      <td>62979.0</td>\n",
       "      <td>11.314064</td>\n",
       "      <td>0</td>\n",
       "      <td>0</td>\n",
       "      <td>0</td>\n",
       "      <td>0</td>\n",
       "      <td>0</td>\n",
       "      <td>0</td>\n",
       "      <td>0</td>\n",
       "      <td>...</td>\n",
       "      <td>0</td>\n",
       "      <td>0</td>\n",
       "      <td>0</td>\n",
       "      <td>0</td>\n",
       "      <td>0</td>\n",
       "      <td>0</td>\n",
       "      <td>0</td>\n",
       "      <td>0</td>\n",
       "      <td>0</td>\n",
       "      <td>0</td>\n",
       "    </tr>\n",
       "    <tr>\n",
       "      <th>2</th>\n",
       "      <td>2018</td>\n",
       "      <td>44070.0</td>\n",
       "      <td>12.000436</td>\n",
       "      <td>0</td>\n",
       "      <td>0</td>\n",
       "      <td>0</td>\n",
       "      <td>0</td>\n",
       "      <td>0</td>\n",
       "      <td>0</td>\n",
       "      <td>0</td>\n",
       "      <td>...</td>\n",
       "      <td>0</td>\n",
       "      <td>0</td>\n",
       "      <td>0</td>\n",
       "      <td>0</td>\n",
       "      <td>0</td>\n",
       "      <td>0</td>\n",
       "      <td>0</td>\n",
       "      <td>0</td>\n",
       "      <td>1</td>\n",
       "      <td>0</td>\n",
       "    </tr>\n",
       "    <tr>\n",
       "      <th>3</th>\n",
       "      <td>2013</td>\n",
       "      <td>85357.0</td>\n",
       "      <td>11.725472</td>\n",
       "      <td>0</td>\n",
       "      <td>0</td>\n",
       "      <td>0</td>\n",
       "      <td>0</td>\n",
       "      <td>0</td>\n",
       "      <td>0</td>\n",
       "      <td>0</td>\n",
       "      <td>...</td>\n",
       "      <td>0</td>\n",
       "      <td>0</td>\n",
       "      <td>0</td>\n",
       "      <td>0</td>\n",
       "      <td>0</td>\n",
       "      <td>0</td>\n",
       "      <td>0</td>\n",
       "      <td>0</td>\n",
       "      <td>1</td>\n",
       "      <td>0</td>\n",
       "    </tr>\n",
       "    <tr>\n",
       "      <th>4</th>\n",
       "      <td>2013</td>\n",
       "      <td>71491.0</td>\n",
       "      <td>11.319593</td>\n",
       "      <td>0</td>\n",
       "      <td>0</td>\n",
       "      <td>0</td>\n",
       "      <td>0</td>\n",
       "      <td>0</td>\n",
       "      <td>0</td>\n",
       "      <td>0</td>\n",
       "      <td>...</td>\n",
       "      <td>0</td>\n",
       "      <td>0</td>\n",
       "      <td>0</td>\n",
       "      <td>1</td>\n",
       "      <td>0</td>\n",
       "      <td>0</td>\n",
       "      <td>0</td>\n",
       "      <td>0</td>\n",
       "      <td>0</td>\n",
       "      <td>0</td>\n",
       "    </tr>\n",
       "  </tbody>\n",
       "</table>\n",
       "<p>5 rows × 530 columns</p>\n",
       "</div>"
      ],
      "text/plain": [
       "   ano_de_fabricacao  hodometro      preco  marca_AUDI  marca_BMW  marca_BRM  \\\n",
       "0               2017    67772.0  11.221685           0          0          0   \n",
       "1               2017    62979.0  11.314064           0          0          0   \n",
       "2               2018    44070.0  12.000436           0          0          0   \n",
       "3               2013    85357.0  11.725472           0          0          0   \n",
       "4               2013    71491.0  11.319593           0          0          0   \n",
       "\n",
       "   marca_CHERY  marca_CHEVROLET  marca_CHRYSLER  marca_CITROËN  ...  \\\n",
       "0            0                0               0              0  ...   \n",
       "1            0                0               0              0  ...   \n",
       "2            0                0               0              0  ...   \n",
       "3            0                0               0              0  ...   \n",
       "4            0                0               0              0  ...   \n",
       "\n",
       "   estado_vendedor_Piauí (PI)  estado_vendedor_Rio Grande do Norte (RN)  \\\n",
       "0                           0                                         0   \n",
       "1                           0                                         0   \n",
       "2                           0                                         0   \n",
       "3                           0                                         0   \n",
       "4                           0                                         0   \n",
       "\n",
       "   estado_vendedor_Rio Grande do Sul (RS)  \\\n",
       "0                                       0   \n",
       "1                                       0   \n",
       "2                                       0   \n",
       "3                                       0   \n",
       "4                                       0   \n",
       "\n",
       "   estado_vendedor_Rio de Janeiro (RJ)  estado_vendedor_Rondônia (RO)  \\\n",
       "0                                    0                              0   \n",
       "1                                    0                              0   \n",
       "2                                    0                              0   \n",
       "3                                    0                              0   \n",
       "4                                    1                              0   \n",
       "\n",
       "   estado_vendedor_Roraima (RR)  estado_vendedor_Santa Catarina (SC)  \\\n",
       "0                             0                                    0   \n",
       "1                             0                                    0   \n",
       "2                             0                                    0   \n",
       "3                             0                                    0   \n",
       "4                             0                                    0   \n",
       "\n",
       "   estado_vendedor_Sergipe (SE)  estado_vendedor_São Paulo (SP)  \\\n",
       "0                             0                               1   \n",
       "1                             0                               0   \n",
       "2                             0                               1   \n",
       "3                             0                               1   \n",
       "4                             0                               0   \n",
       "\n",
       "   estado_vendedor_Tocantins (TO)  \n",
       "0                               0  \n",
       "1                               0  \n",
       "2                               0  \n",
       "3                               0  \n",
       "4                               0  \n",
       "\n",
       "[5 rows x 530 columns]"
      ]
     },
     "execution_count": 121,
     "metadata": {},
     "output_type": "execute_result"
    }
   ],
   "source": [
    "# Selecionar todas as colunas não numéricas\n",
    "colunas_categoricas_2 = df_cars_test.select_dtypes(include=['object', 'bool']).columns\n",
    "\n",
    "# Transformar as colunas não numéricas em variáveis binárias\n",
    "df_binario_2 = pd.get_dummies(df_relevante, columns=colunas_categoricas, drop_first=True)\n",
    "\n",
    "# Exibir df_binarioo novo dataframe com as variáveis binárias\n",
    "df_binario_2.head()"
   ]
  },
  {
   "cell_type": "markdown",
   "id": "248df579",
   "metadata": {},
   "source": [
    "### Divisão dos dados"
   ]
  },
  {
   "cell_type": "code",
   "execution_count": 122,
   "id": "aa97186b",
   "metadata": {},
   "outputs": [],
   "source": [
    "X_2 = df_binario_2\n",
    "y_2 = df_binario['preco']"
   ]
  },
  {
   "cell_type": "markdown",
   "id": "cbc278cb",
   "metadata": {},
   "source": [
    "### Divisão em conjunto de treinamento e teste"
   ]
  },
  {
   "cell_type": "code",
   "execution_count": 123,
   "id": "f0884cf2",
   "metadata": {},
   "outputs": [],
   "source": [
    "X_train_2, X_test_2, y_train_2, y_test_2 = train_test_split(X_2, y_2, test_size=0.2, random_state=42)"
   ]
  },
  {
   "cell_type": "markdown",
   "id": "b0820f10",
   "metadata": {},
   "source": [
    "### Criação do modelo de previsão de preços"
   ]
  },
  {
   "cell_type": "code",
   "execution_count": 124,
   "id": "aeb67c52",
   "metadata": {},
   "outputs": [
    {
     "data": {
      "text/plain": [
       "XGBRegressor(base_score=None, booster=None, callbacks=None,\n",
       "             colsample_bylevel=None, colsample_bynode=None,\n",
       "             colsample_bytree=None, early_stopping_rounds=None,\n",
       "             enable_categorical=False, eval_metric=None, feature_types=None,\n",
       "             gamma=None, gpu_id=None, grow_policy=None, importance_type=None,\n",
       "             interaction_constraints=None, learning_rate=None, max_bin=None,\n",
       "             max_cat_threshold=None, max_cat_to_onehot=None,\n",
       "             max_delta_step=None, max_depth=None, max_leaves=None,\n",
       "             min_child_weight=None, missing=nan, monotone_constraints=None,\n",
       "             n_estimators=100, n_jobs=None, num_parallel_tree=None,\n",
       "             predictor=None, random_state=None, ...)"
      ]
     },
     "execution_count": 124,
     "metadata": {},
     "output_type": "execute_result"
    }
   ],
   "source": [
    "model_2 = XGBRegressor()\n",
    "model_2.fit(X_train_2, y_train_2)"
   ]
  },
  {
   "cell_type": "markdown",
   "id": "e1463468",
   "metadata": {},
   "source": [
    "### Avaliação do modelo"
   ]
  },
  {
   "cell_type": "code",
   "execution_count": 125,
   "id": "ce91821e",
   "metadata": {},
   "outputs": [
    {
     "name": "stdout",
     "output_type": "stream",
     "text": [
      "R²_2: 0.6908761456110516\n",
      "MAE_2: 0.24092141869048744\n"
     ]
    }
   ],
   "source": [
    "y_pred_2 = model_2.predict(X_test_2)\n",
    "\n",
    "\n",
    "r2_2 = r2_score(y_test, y_pred)\n",
    "mae_2 = mean_absolute_error(y_test, y_pred)\n",
    "\n",
    "print('R²_2:', r2_2)\n",
    "print('MAE_2:', mae_2)"
   ]
  },
  {
   "cell_type": "markdown",
   "id": "6a30c8ae",
   "metadata": {},
   "source": [
    "Os resultados são exatamente iguais ao conjuntpo de dados de treino"
   ]
  },
  {
   "cell_type": "markdown",
   "id": "8e416af0",
   "metadata": {},
   "source": [
    "### Obtendo os valores previstos"
   ]
  },
  {
   "cell_type": "code",
   "execution_count": 153,
   "id": "1d198e9c",
   "metadata": {},
   "outputs": [
    {
     "name": "stdout",
     "output_type": "stream",
     "text": [
      "[12.081365 11.066562 11.612119 ... 10.682891 12.599522 12.458372]\n"
     ]
    }
   ],
   "source": [
    "print(y_pred_2)"
   ]
  },
  {
   "cell_type": "markdown",
   "id": "f746870e",
   "metadata": {},
   "source": [
    "### Comparando os valores Originais com os valores previstos"
   ]
  },
  {
   "cell_type": "code",
   "execution_count": 154,
   "id": "b82cb23e",
   "metadata": {},
   "outputs": [
    {
     "name": "stdout",
     "output_type": "stream",
     "text": [
      "       Preço Original  Preço Previsto_2\n",
      "7936        12.081927         12.081365\n",
      "22472       11.064890         11.066562\n",
      "18848       11.613554         11.612119\n",
      "24252       12.941950         12.939278\n",
      "17123       11.680345         11.678919\n",
      "...               ...               ...\n",
      "14865       11.667642         11.663966\n",
      "13630       11.779896         11.778339\n",
      "3509        10.681556         10.682891\n",
      "27544       12.597950         12.599522\n",
      "11176       12.456685         12.458372\n",
      "\n",
      "[5917 rows x 2 columns]\n"
     ]
    }
   ],
   "source": [
    "# Converter os valores previstos em um DataFrame\n",
    "df_pred_2 = pd.DataFrame({'Preço Original': y_test, 'Preço Previsto_2': y_pred_2})\n",
    "\n",
    "# Imprimir o DataFrame\n",
    "print(df_pred_2)"
   ]
  },
  {
   "cell_type": "code",
   "execution_count": 155,
   "id": "5604dd15",
   "metadata": {},
   "outputs": [
    {
     "name": "stdout",
     "output_type": "stream",
     "text": [
      "       Preço Original  Preço Previsto_2\n",
      "7936    176649.291489     176549.921875\n",
      "22472    63887.181849      63994.093750\n",
      "18848   110585.626201     110426.968750\n",
      "24252   417461.596397     416347.375000\n",
      "17123   118224.015684     118055.531250\n",
      "...               ...               ...\n",
      "14865   116731.681919     116303.398438\n",
      "13630   130599.138413     130396.062500\n",
      "3509     43544.236441      43602.421875\n",
      "27544   295950.256041     296415.750000\n",
      "11176   256961.328558     257395.281250\n",
      "\n",
      "[5917 rows x 2 columns]\n"
     ]
    }
   ],
   "source": [
    "# Aplicar a transformação inversa logarítmica nos valores das colunas \"Preço Original\" e \"Preço Previsto\"\n",
    "df_pred_2['Preço Original'] = np.expm1(df_pred_2['Preço Original'])\n",
    "df_pred_2['Preço Previsto_2'] = np.expm1(df_pred_2['Preço Previsto_2'])\n",
    "\n",
    "# Imprimir o DataFrame com os valores desfeitos da transformação logarítmica\n",
    "print(df_pred_2)"
   ]
  },
  {
   "cell_type": "markdown",
   "id": "a1f63b98",
   "metadata": {},
   "source": [
    "Ao analisar os resultados da comparação entre os valores originais e os valores previstos, podemos observar que há uma proximidade entre eles. \n",
    "\n",
    "Em geral, os valores previstos estão muito próximos dos valores originais, o que indica que o modelo tem uma boa capacidade de fazer previsões precisas. No entanto, é possível notar que em alguns casos há uma pequena diferença entre os valores previstos e os valores originais, indicando que o modelo não consegue prever com 100% de precisão todos os casos.\n",
    "\n",
    "Essas diferenças podem ser resultado de diversas variáveis que podem afetar o preço dos carros e que não foram consideradas no modelo. Além disso, podem existir outros fatores não capturados pelo modelo que influenciam o preço dos carros."
   ]
  },
  {
   "cell_type": "markdown",
   "id": "6853be78",
   "metadata": {},
   "source": [
    "### Salvando o arquivo final"
   ]
  },
  {
   "cell_type": "code",
   "execution_count": 156,
   "id": "17ff118b",
   "metadata": {},
   "outputs": [],
   "source": [
    "# Criar DataFrame com as colunas id e preço previsto\n",
    "df_result = pd.DataFrame({'id': df_cars_test['id'], 'preco': df_pred_2['Preço Previsto_2']})\n",
    "\n",
    "# Salvar o DataFrame em um arquivo CSV\n",
    "df_result.to_csv('predicted.csv', index=False)"
   ]
  }
 ],
 "metadata": {
  "kernelspec": {
   "display_name": "Python 3 (ipykernel)",
   "language": "python",
   "name": "python3"
  },
  "language_info": {
   "codemirror_mode": {
    "name": "ipython",
    "version": 3
   },
   "file_extension": ".py",
   "mimetype": "text/x-python",
   "name": "python",
   "nbconvert_exporter": "python",
   "pygments_lexer": "ipython3",
   "version": "3.9.13"
  }
 },
 "nbformat": 4,
 "nbformat_minor": 5
}
